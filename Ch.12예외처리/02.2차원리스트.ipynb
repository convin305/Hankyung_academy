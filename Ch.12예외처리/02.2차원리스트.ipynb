{
 "metadata": {
  "language_info": {
   "codemirror_mode": {
    "name": "ipython",
    "version": 3
   },
   "file_extension": ".py",
   "mimetype": "text/x-python",
   "name": "python",
   "nbconvert_exporter": "python",
   "pygments_lexer": "ipython3",
   "version": "3.8.5"
  },
  "orig_nbformat": 2,
  "kernelspec": {
   "name": "python385jvsc74a57bd08c1eae21719a0790335dcb83aad72b63b602cfe5cdb2bda0f60bc11d4f154e4b",
   "display_name": "Python 3.8.5 64-bit ('base': conda)"
  }
 },
 "nbformat": 4,
 "nbformat_minor": 2,
 "cells": [
  {
   "source": [
    "# 코딩도장 UNIT23 심사문제 \n",
    "### 2차원 리스트 사용하기\n",
    "\n",
    "내 주변의 지뢰를 찾으려고 하면 8군데를 봐야하고  \n",
    "기본 판을 제로 패딩을 한 곳으로 가져가서 문제를 풀고 값만 다시 4*4로 가져오기?  \n",
    "1이 있는 곳은 #으로 처리, 빈 곳은 숫자 넣기  "
   ],
   "cell_type": "markdown",
   "metadata": {}
  },
  {
   "cell_type": "code",
   "execution_count": 1,
   "metadata": {},
   "outputs": [],
   "source": [
    "def show_matrix(s_list):\n",
    "    for i in range(len(s_list)):\n",
    "        for k in range(len(s_list[i])):\n",
    "            print(s_list[i][k],end=\" \")\n",
    "        print()"
   ]
  },
  {
   "cell_type": "code",
   "execution_count": 34,
   "metadata": {},
   "outputs": [
    {
     "output_type": "stream",
     "name": "stdout",
     "text": [
      "0 1 1 0 \n0 0 0 1 \n0 0 1 0 \n1 0 0 1 \n"
     ]
    }
   ],
   "source": [
    "import random\n",
    "\n",
    "# 4 * 4인 매트릭스 생성\n",
    "random.seed(1)\n",
    "original = [[0 if random.random() < 0.7 else 1 for _ in range(4)] for _ in range(4)]\n",
    "\n",
    "show_matrix(original)"
   ]
  },
  {
   "source": [
    "* 패딩"
   ],
   "cell_type": "markdown",
   "metadata": {}
  },
  {
   "cell_type": "code",
   "execution_count": 3,
   "metadata": {},
   "outputs": [
    {
     "output_type": "stream",
     "name": "stdout",
     "text": [
      "0 0 0 0 0 0 \n0 0 1 1 0 0 \n0 0 0 0 1 0 \n0 0 0 1 0 0 \n0 1 0 0 1 0 \n0 0 0 0 0 0 \n"
     ]
    }
   ],
   "source": [
    "original_p = original\n",
    "\n",
    "for i in range(4):\n",
    "    original_p[i].append(0)\n",
    "    original_p[i].insert(0,0)\n",
    "\n",
    "original_p.insert(0,[0 for _ in range(len(original_p[0]))])\n",
    "original_p.append([0 for _ in range(len(original_p[0]))])\n",
    "\n",
    "show_matrix(original_p)"
   ]
  },
  {
   "source": [
    "result 라는 4*4의 2차원 리스트에   \n",
    "(0,0)부터 입력하기 시작해서 (3,3)까지 입력  \n",
    "original_p의 (1,1)에서 (4,4)까지가 각 기준점  \n",
    "(1,1)이 1일 때 : #입력  \n",
    "(1,1)이 0일 때 : (0,0)에서 (2,2)까지 볼 것, 1이 하나 있을 때마다 증가.\n",
    "\n"
   ],
   "cell_type": "markdown",
   "metadata": {}
  },
  {
   "cell_type": "code",
   "execution_count": 4,
   "metadata": {},
   "outputs": [
    {
     "output_type": "stream",
     "name": "stdout",
     "text": [
      "0 0 0 0 \n0 0 0 0 \n0 0 0 0 \n0 0 0 0 \n"
     ]
    }
   ],
   "source": [
    "result = [[0 for _ in range(4)] for _ in range(4)]\n",
    "\n",
    "show_matrix(result)"
   ]
  },
  {
   "cell_type": "code",
   "execution_count": 5,
   "metadata": {},
   "outputs": [
    {
     "output_type": "stream",
     "name": "stdout",
     "text": [
      "1 # # 2 \n1 3 4 # \n1 2 # 3 \n# 2 2 # \n"
     ]
    }
   ],
   "source": [
    "for i in range(1,5):\n",
    "    for k in range(1,5):\n",
    "        mns = 0\n",
    "        if original_p[i][k] == 1 : \n",
    "            result[i-1][k-1] = \"#\" \n",
    "        else : \n",
    "            # [i][k]를 기준으로 주변 가로세로3개씩\n",
    "            for x in range(i-1, i+2):\n",
    "                for y in range(k-1, k+2):\n",
    "                    if original_p[x][y] == 1 :\n",
    "                        mns += 1\n",
    "            result[i-1][k-1] = mns\n",
    "\n",
    "show_matrix(result)"
   ]
  },
  {
   "source": [
    "___________________________________________________________________________   \n",
    "더 일반적인 코드 만들기"
   ],
   "cell_type": "markdown",
   "metadata": {}
  },
  {
   "cell_type": "code",
   "execution_count": 22,
   "metadata": {},
   "outputs": [],
   "source": [
    "def make_matrix(n):\n",
    "    return [[0 if random.random() < 0.7 else 1 for _ in range(n)] for _ in range(n)]"
   ]
  },
  {
   "cell_type": "code",
   "execution_count": 23,
   "metadata": {},
   "outputs": [],
   "source": [
    "def padding(s_list):\n",
    "    for i in range(len(s_list)):\n",
    "        s_list[i].append(0)\n",
    "        s_list[i].insert(0,0)\n",
    "    \n",
    "    s_list.append([0 for _ in range(len(s_list[0]))])\n",
    "    s_list.insert(0,[0 for _ in range(len(s_list[0]))])\n",
    "    \n",
    "    return s_list"
   ]
  },
  {
   "cell_type": "code",
   "execution_count": 32,
   "metadata": {},
   "outputs": [],
   "source": [
    "def minesweeper_result(s_list):\n",
    "    n = len(s_list)\n",
    "    result = [[0 for _ in range(n)] for _ in range(n)]\n",
    "    \n",
    "    padded_list = padding(s_list)\n",
    "\n",
    "    for i in range(1,n+1):\n",
    "        for k in range(1,n+1):\n",
    "            mns = 0\n",
    "            if padded_list[i][k] == 1 :\n",
    "                result[i-1][k-1] = \"#\"\n",
    "            else :\n",
    "                for x in range(i-1,i+2):\n",
    "                    for y in range(k-1,k+2):\n",
    "                        if padded_list[x][y] == 1 :\n",
    "                            mns += 1\n",
    "                result[i-1][k-1] = mns\n",
    "    show_matrix(result)"
   ]
  },
  {
   "source": [
    " 4 * 4 행렬 테스트"
   ],
   "cell_type": "markdown",
   "metadata": {}
  },
  {
   "cell_type": "code",
   "execution_count": 38,
   "metadata": {},
   "outputs": [
    {
     "output_type": "stream",
     "name": "stdout",
     "text": [
      "1 0 0 0 \n1 1 0 0 \n0 0 1 0 \n0 0 1 0 \n"
     ]
    }
   ],
   "source": [
    "test1 = make_matrix(4)\n",
    "show_matrix(test1)"
   ]
  },
  {
   "cell_type": "code",
   "execution_count": 39,
   "metadata": {},
   "outputs": [
    {
     "output_type": "stream",
     "name": "stdout",
     "text": [
      "# 3 1 0 \n# # 2 1 \n2 4 # 2 \n0 2 # 2 \n"
     ]
    }
   ],
   "source": [
    "minesweeper_result(test1)"
   ]
  },
  {
   "source": [
    "6 * 6 행렬 테스트"
   ],
   "cell_type": "markdown",
   "metadata": {}
  },
  {
   "cell_type": "code",
   "execution_count": 40,
   "metadata": {},
   "outputs": [
    {
     "output_type": "stream",
     "name": "stdout",
     "text": [
      "0 0 0 1 0 0 \n0 0 0 1 1 0 \n0 0 0 1 1 0 \n1 0 0 1 0 0 \n0 0 1 0 1 1 \n1 1 1 0 0 0 \n"
     ]
    }
   ],
   "source": [
    "test2 = make_matrix(6)\n",
    "show_matrix(test2)"
   ]
  },
  {
   "cell_type": "code",
   "execution_count": 41,
   "metadata": {},
   "outputs": [
    {
     "output_type": "stream",
     "name": "stdout",
     "text": [
      "0 0 2 # 3 1 \n0 0 3 # # 2 \n1 1 3 # # 2 \n# 2 3 # 5 3 \n3 5 # 4 # # \n# # # 3 2 2 \n"
     ]
    }
   ],
   "source": [
    "minesweeper_result(test2)"
   ]
  }
 ]
}