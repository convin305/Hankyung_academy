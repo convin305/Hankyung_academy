{
 "metadata": {
  "language_info": {
   "codemirror_mode": {
    "name": "ipython",
    "version": 3
   },
   "file_extension": ".py",
   "mimetype": "text/x-python",
   "name": "python",
   "nbconvert_exporter": "python",
   "pygments_lexer": "ipython3",
   "version": "3.8.5"
  },
  "orig_nbformat": 2,
  "kernelspec": {
   "name": "python385jvsc74a57bd08c1eae21719a0790335dcb83aad72b63b602cfe5cdb2bda0f60bc11d4f154e4b",
   "display_name": "Python 3.8.5 64-bit ('base': conda)"
  }
 },
 "nbformat": 4,
 "nbformat_minor": 2,
 "cells": [
  {
   "source": [
    "# 파일 다루기\n",
    "\n",
    "### 1. 파일 읽기  \n",
    "\n",
    "파일 읽기 모드 종류  \n",
    "* r  \n",
    "* w  \n",
    "* a  "
   ],
   "cell_type": "markdown",
   "metadata": {}
  },
  {
   "cell_type": "code",
   "execution_count": 1,
   "metadata": {},
   "outputs": [
    {
     "output_type": "stream",
     "name": "stdout",
     "text": [
      "I Have a Dream, a song to sing\nTo help me cope, with anything\nIf you see the wonder, of a fairy tale\nYou can take the future, even if you fail\n\nI believe in angels\nSomething good in everything I see\nI believe in angels\nWhen I know the time is right for me\nI'll cross the stream, I Have a Dream\n"
     ]
    }
   ],
   "source": [
    "f = open(\"sing.txt\",'r')\n",
    "contents = f.read()\n",
    "print(contents)\n",
    "f.close()"
   ]
  },
  {
   "cell_type": "code",
   "execution_count": 2,
   "metadata": {},
   "outputs": [
    {
     "output_type": "stream",
     "name": "stdout",
     "text": [
      "<class 'str'>\nI Have a Dream, a song to sing\nTo help me cope, with anything\nIf you see the wonder, of a fairy tale\nYou can take the future, even if you fail\n\nI believe in angels\nSomething good in everything I see\nI believe in angels\nWhen I know the time is right for me\nI'll cross the stream, I Have a Dream\n"
     ]
    }
   ],
   "source": [
    "with open('sing.txt','r') as my_file:\n",
    "    contents = my_file.read()\n",
    "    print(type(contents))\n",
    "    print(contents)"
   ]
  },
  {
   "source": [
    "한 줄 씩 읽어서 리스트로 반환 - readlines"
   ],
   "cell_type": "markdown",
   "metadata": {}
  },
  {
   "cell_type": "code",
   "execution_count": 4,
   "metadata": {},
   "outputs": [
    {
     "output_type": "stream",
     "name": "stdout",
     "text": [
      "<class 'list'>\n['I Have a Dream, a song to sing\\n', 'To help me cope, with anything\\n', 'If you see the wonder, of a fairy tale\\n', 'You can take the future, even if you fail\\n', '\\n', 'I believe in angels\\n', 'Something good in everything I see\\n', 'I believe in angels\\n', 'When I know the time is right for me\\n', \"I'll cross the stream, I Have a Dream\"]\n"
     ]
    }
   ],
   "source": [
    "with open('sing.txt','r') as my_file:\n",
    "    contents = my_file.readlines()\n",
    "    print(type(contents))\n",
    "    print(contents)"
   ]
  },
  {
   "cell_type": "code",
   "execution_count": null,
   "metadata": {},
   "outputs": [],
   "source": [
    "한 줄 단위로 읽기 - readline"
   ]
  },
  {
   "cell_type": "code",
   "execution_count": 6,
   "metadata": {},
   "outputs": [
    {
     "output_type": "stream",
     "name": "stdout",
     "text": [
      "1 I Have a Dream, a song to sing\n2 To help me cope, with anything\n3 If you see the wonder, of a fairy tale\n4 You can take the future, even if you fail\n5 \n6 I believe in angels\n7 Something good in everything I see\n8 I believe in angels\n9 When I know the time is right for me\n10 I'll cross the stream, I Have a Dream\n"
     ]
    }
   ],
   "source": [
    "with open('sing.txt','r') as my_file:\n",
    "    number = 1\n",
    "    while True:\n",
    "        line = my_file.readline()\n",
    "        if not line:\n",
    "            break\n",
    "        print(number,line.replace('\\n',\"\"))\n",
    "        number += 1\n"
   ]
  },
  {
   "source": [
    "### 2. 파일 쓰기"
   ],
   "cell_type": "markdown",
   "metadata": {}
  },
  {
   "cell_type": "code",
   "execution_count": 7,
   "metadata": {},
   "outputs": [],
   "source": [
    "with open('new_file.txt', 'w') as f:\n",
    "    f.write('A quick brown fox jumps over the lazy dog.')"
   ]
  },
  {
   "cell_type": "code",
   "execution_count": 9,
   "metadata": {},
   "outputs": [],
   "source": [
    "# write mode에서는 파일을 override\n",
    "with open('new_file.txt', 'w', encoding='utf8') as f:\n",
    "    f.write('새로운 글을 씁니다')"
   ]
  },
  {
   "cell_type": "code",
   "execution_count": 10,
   "metadata": {},
   "outputs": [],
   "source": [
    "with open('new_file.txt', 'w', encoding='utf8') as f:\n",
    "    f.write('A quick brown fox jumps over the lazy dog.\\n')\n",
    "    f.write('새로운 글을 씁니다')"
   ]
  },
  {
   "source": [
    "### 3. 디렉토리 만들기"
   ],
   "cell_type": "markdown",
   "metadata": {}
  },
  {
   "cell_type": "code",
   "execution_count": 11,
   "metadata": {},
   "outputs": [],
   "source": [
    "import os\n",
    "os.mkdir('subdir')"
   ]
  },
  {
   "cell_type": "code",
   "execution_count": 14,
   "metadata": {},
   "outputs": [
    {
     "output_type": "error",
     "ename": "FileExistsError",
     "evalue": "[WinError 183] 파일이 이미 있으므로 만들 수 없습니다: 'subdir'",
     "traceback": [
      "\u001b[1;31m---------------------------------------------------------------------------\u001b[0m",
      "\u001b[1;31mFileExistsError\u001b[0m                           Traceback (most recent call last)",
      "\u001b[1;32m<ipython-input-14-c49923cc3ff4>\u001b[0m in \u001b[0;36m<module>\u001b[1;34m\u001b[0m\n\u001b[1;32m----> 1\u001b[1;33m \u001b[0mos\u001b[0m\u001b[1;33m.\u001b[0m\u001b[0mmkdir\u001b[0m\u001b[1;33m(\u001b[0m\u001b[1;34m'subdir'\u001b[0m\u001b[1;33m)\u001b[0m \u001b[1;31m# 있으면 있다고 뜬다\u001b[0m\u001b[1;33m\u001b[0m\u001b[1;33m\u001b[0m\u001b[0m\n\u001b[0m",
      "\u001b[1;31mFileExistsError\u001b[0m: [WinError 183] 파일이 이미 있으므로 만들 수 없습니다: 'subdir'"
     ]
    }
   ],
   "source": [
    "os.mkdir('subdir') # 있으면 있다고 뜬다"
   ]
  },
  {
   "cell_type": "code",
   "execution_count": null,
   "metadata": {},
   "outputs": [],
   "source": [
    "# if 문을 사용하여 없으면 만드는 방식으로 오류를 피할 수 있다.\n",
    "\n",
    "if not os.path.exists('subdir'):\n",
    "    os.mkdir('subdir')"
   ]
  },
  {
   "cell_type": "code",
   "execution_count": 22,
   "metadata": {},
   "outputs": [],
   "source": [
    "# sing.txt파일을 홀수 줄만 읽어와서 sing_odd.txt파일 만들기\n",
    "with open('sing.txt','r') as my_file:\n",
    "    contents = my_file.readlines()\n",
    "    \n",
    "if not os.path.exists('subdir'):\n",
    "    os.mkdir('subdir')\n",
    "\n",
    "with open('subdir/sing_odd.txt','w') as new_file:\n",
    "    for i,j in enumerate(contents):\n",
    "        if i % 2 == 0:\n",
    "            new_file.write(j)"
   ]
  },
  {
   "source": [
    "### 4. binary data - pickle 모듈 활용"
   ],
   "cell_type": "markdown",
   "metadata": {}
  },
  {
   "cell_type": "code",
   "execution_count": 23,
   "metadata": {},
   "outputs": [],
   "source": [
    "test_list = [1,True, 3.24,'String']"
   ]
  },
  {
   "cell_type": "code",
   "execution_count": 24,
   "metadata": {},
   "outputs": [],
   "source": [
    "import pickle\n",
    "\n",
    "with open('list.pickle','wb') as bf:\n",
    "    pickle.dump(test_list,bf)"
   ]
  },
  {
   "cell_type": "code",
   "execution_count": 25,
   "metadata": {},
   "outputs": [
    {
     "output_type": "execute_result",
     "data": {
      "text/plain": [
       "[1, True, 3.24, 'String']"
      ]
     },
     "metadata": {},
     "execution_count": 25
    }
   ],
   "source": [
    "with open('list.pickle','rb') as bf:\n",
    "    x = pickle.load(bf)\n",
    "\n",
    "x"
   ]
  },
  {
   "cell_type": "code",
   "execution_count": null,
   "metadata": {},
   "outputs": [],
   "source": []
  }
 ]
}