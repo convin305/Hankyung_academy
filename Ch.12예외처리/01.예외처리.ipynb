{
 "metadata": {
  "language_info": {
   "codemirror_mode": {
    "name": "ipython",
    "version": 3
   },
   "file_extension": ".py",
   "mimetype": "text/x-python",
   "name": "python",
   "nbconvert_exporter": "python",
   "pygments_lexer": "ipython3",
   "version": "3.8.5"
  },
  "orig_nbformat": 2,
  "kernelspec": {
   "name": "python385jvsc74a57bd08c1eae21719a0790335dcb83aad72b63b602cfe5cdb2bda0f60bc11d4f154e4b",
   "display_name": "Python 3.8.5 64-bit ('base': conda)"
  }
 },
 "nbformat": 4,
 "nbformat_minor": 2,
 "cells": [
  {
   "source": [
    "# Chap12. 예외 처리\n",
    "\n",
    "### 1. try-except\n",
    "\n",
    "\ttry :\n",
    "\t    예외 발생 가능 코드\n",
    "\texcept : \n",
    "\t    예외 발생 시 사용하는 코드"
   ],
   "cell_type": "markdown",
   "metadata": {}
  },
  {
   "source": [
    "예외 : 프로그램을 개발하면서 예상하지 못한 상황이 발생한 것이다.  \n",
    "    예측 가능한 예외와 예측 불가능한 예외로 나눌 수 있다.  \n",
    "예외처리 : 발생하는 예외를 처리해서 프로그램이 죽지 않도록 하는 것.\n",
    "\n",
    "* SyntaxError : 잘못된 문법  \n",
    "* NameError : 참조변수 없음  \n",
    "* ZeroDivisionError : 0으로 나눌 수 없음  \n",
    "* IndexError : 인덱스 범위 벗어남  \n",
    "* ValueError : 참조 값이 없음"
   ],
   "cell_type": "markdown",
   "metadata": {}
  },
  {
   "cell_type": "code",
   "execution_count": 1,
   "metadata": {},
   "outputs": [
    {
     "output_type": "error",
     "ename": "ZeroDivisionError",
     "evalue": "division by zero",
     "traceback": [
      "\u001b[1;31m---------------------------------------------------------------------------\u001b[0m",
      "\u001b[1;31mZeroDivisionError\u001b[0m                         Traceback (most recent call last)",
      "\u001b[1;32m<ipython-input-1-cd759d3fcf39>\u001b[0m in \u001b[0;36m<module>\u001b[1;34m\u001b[0m\n\u001b[1;32m----> 1\u001b[1;33m \u001b[1;36m10\u001b[0m \u001b[1;33m/\u001b[0m \u001b[1;36m0\u001b[0m\u001b[1;33m\u001b[0m\u001b[1;33m\u001b[0m\u001b[0m\n\u001b[0m",
      "\u001b[1;31mZeroDivisionError\u001b[0m: division by zero"
     ]
    }
   ],
   "source": [
    "10 / 0 "
   ]
  },
  {
   "cell_type": "code",
   "execution_count": 2,
   "metadata": {},
   "outputs": [
    {
     "output_type": "error",
     "ename": "ZeroDivisionError",
     "evalue": "division by zero",
     "traceback": [
      "\u001b[1;31m---------------------------------------------------------------------------\u001b[0m",
      "\u001b[1;31mZeroDivisionError\u001b[0m                         Traceback (most recent call last)",
      "\u001b[1;32m<ipython-input-2-7f38f68db52f>\u001b[0m in \u001b[0;36m<module>\u001b[1;34m\u001b[0m\n\u001b[0;32m      1\u001b[0m \u001b[1;32mfor\u001b[0m \u001b[0mi\u001b[0m \u001b[1;32min\u001b[0m \u001b[0mrange\u001b[0m\u001b[1;33m(\u001b[0m\u001b[1;36m5\u001b[0m\u001b[1;33m)\u001b[0m\u001b[1;33m:\u001b[0m\u001b[1;33m\u001b[0m\u001b[1;33m\u001b[0m\u001b[0m\n\u001b[1;32m----> 2\u001b[1;33m     \u001b[0mprint\u001b[0m\u001b[1;33m(\u001b[0m\u001b[1;36m5\u001b[0m\u001b[1;33m/\u001b[0m\u001b[0mi\u001b[0m\u001b[1;33m)\u001b[0m\u001b[1;33m\u001b[0m\u001b[1;33m\u001b[0m\u001b[0m\n\u001b[0m",
      "\u001b[1;31mZeroDivisionError\u001b[0m: division by zero"
     ]
    }
   ],
   "source": [
    "for i in range(5):\n",
    "    print(5/i)"
   ]
  },
  {
   "source": [
    "위에서 발생한 ZeroDivisionError를 가지고 try-except문 처리를 한다.  \n",
    "위에서는 아예 실행이 되지 않았으나, 이렇게 한 순간 돌아가는 것을 볼 수 있다."
   ],
   "cell_type": "markdown",
   "metadata": {}
  },
  {
   "cell_type": "code",
   "execution_count": 5,
   "metadata": {},
   "outputs": [
    {
     "output_type": "stream",
     "name": "stdout",
     "text": [
      "0으로 나누지 마세요\n5.0\n2.5\n1.6666666666666667\n1.25\n"
     ]
    }
   ],
   "source": [
    "for i in range(5):\n",
    "    try : \n",
    "        print(5/i)\n",
    "    except ZeroDivisionError : \n",
    "        print(\"0으로 나누지 마세요\")\n"
   ]
  },
  {
   "cell_type": "code",
   "execution_count": 6,
   "metadata": {},
   "outputs": [
    {
     "output_type": "stream",
     "name": "stdout",
     "text": [
      "division by zero\n0으로 나누지 마세요\n5.0\n2.5\n1.6666666666666667\n1.25\n"
     ]
    }
   ],
   "source": [
    "for i in range(5):\n",
    "    try : \n",
    "        print(5/i)\n",
    "    except ZeroDivisionError as e :\n",
    "        print(e) \n",
    "        print(\"0으로 나누지 마세요\")\n"
   ]
  },
  {
   "cell_type": "code",
   "execution_count": 8,
   "metadata": {},
   "outputs": [
    {
     "output_type": "stream",
     "name": "stdout",
     "text": [
      "division by zero\n1.0\n1.0\n1.0\nlist index out of range\n"
     ]
    }
   ],
   "source": [
    "a = [0,1,2,3]\n",
    "\n",
    "for i in range(5):\n",
    "    try:\n",
    "        print(a[i] / i)\n",
    "    except ZeroDivisionError as e:\n",
    "        print(e)\n",
    "\n",
    "    except IndexError as e:\n",
    "        print(e)"
   ]
  },
  {
   "cell_type": "code",
   "execution_count": 7,
   "metadata": {},
   "outputs": [
    {
     "output_type": "stream",
     "name": "stdout",
     "text": [
      "division by zero\n1.0\n1.0\n1.0\nlist index out of range\n"
     ]
    }
   ],
   "source": [
    "# 편한 방법\n",
    "a = [0,1,2,3]\n",
    "\n",
    "for i in range(5):\n",
    "    try:\n",
    "        print(a[i] / i)\n",
    "    except Exception as e:\n",
    "        print(e)"
   ]
  },
  {
   "source": [
    "2. try-except-else  \n",
    "\n",
    "\n",
    "\ttry :\n",
    "\t    예외 발생 가능 코드\n",
    "\texcept : \n",
    "\t    예외 발생 시 사용하는 코드\n",
    "\telse : \n",
    "\t    예외가 발생하지 않았을 때 실행하는 코드"
   ],
   "cell_type": "markdown",
   "metadata": {}
  },
  {
   "cell_type": "code",
   "execution_count": 9,
   "metadata": {},
   "outputs": [
    {
     "output_type": "stream",
     "name": "stdout",
     "text": [
      "division by zero\n1.0 - 에러가 발생하지 않았음\n1.0 - 에러가 발생하지 않았음\n1.0 - 에러가 발생하지 않았음\nlist index out of range\n"
     ]
    }
   ],
   "source": [
    "for i in range(5):\n",
    "    try : \n",
    "        b = a[i]/i\n",
    "    except Exception as e:\n",
    "        print(e)\n",
    "    else :\n",
    "        print(f'{b} - 에러가 발생하지 않았음')"
   ]
  },
  {
   "source": [
    "3. try - except - finally\n",
    "\n",
    "\n",
    "    try : \n",
    "        에외 발생 가능 코드\n",
    "    except : \n",
    "        예외 발생 시 사용하는 코드\n",
    "    finally : \n",
    "        "
   ],
   "cell_type": "markdown",
   "metadata": {}
  },
  {
   "cell_type": "code",
   "execution_count": 13,
   "metadata": {},
   "outputs": [
    {
     "output_type": "stream",
     "name": "stdout",
     "text": [
      "1.0\n1.0\n1.0\nlist index out of range\n종료\n"
     ]
    }
   ],
   "source": [
    "a = [0,1,2,3]\n",
    "\n",
    "\n",
    "try:\n",
    "    for i in range(1,5):\n",
    "        print(a[i] / i)\n",
    "except Exception as e:\n",
    "    print(e)\n",
    "finally : \n",
    "    print(\"종료\")\n",
    "\n"
   ]
  }
 ]
}