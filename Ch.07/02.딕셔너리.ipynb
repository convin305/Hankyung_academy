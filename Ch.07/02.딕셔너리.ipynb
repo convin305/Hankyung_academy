{
 "metadata": {
  "language_info": {
   "codemirror_mode": {
    "name": "ipython",
    "version": 3
   },
   "file_extension": ".py",
   "mimetype": "text/x-python",
   "name": "python",
   "nbconvert_exporter": "python",
   "pygments_lexer": "ipython3",
   "version": "3.8.5"
  },
  "orig_nbformat": 2,
  "kernelspec": {
   "name": "python385jvsc74a57bd08c1eae21719a0790335dcb83aad72b63b602cfe5cdb2bda0f60bc11d4f154e4b",
   "display_name": "Python 3.8.5 64-bit ('base': conda)"
  }
 },
 "nbformat": 4,
 "nbformat_minor": 2,
 "cells": [
  {
   "source": [
    "### 4.딕셔너리 dictionary\n",
    "\n",
    "전화번호부와 같이 키와 값 형태로 데이터를 저장하는 자료구조이다."
   ],
   "cell_type": "markdown",
   "metadata": {}
  },
  {
   "cell_type": "code",
   "execution_count": 1,
   "metadata": {},
   "outputs": [
    {
     "output_type": "execute_result",
     "data": {
      "text/plain": [
       "{'health': 490, 'mana': 334, 'melee': 550, 'armor': 18.72}"
      ]
     },
     "metadata": {},
     "execution_count": 1
    }
   ],
   "source": [
    "# 딕셔너리 만들기\n",
    "\n",
    "lux = {'health': 490, 'mana': 334, 'melee': 550, 'armor': 18.72}\n",
    "\n",
    "lux"
   ]
  },
  {
   "cell_type": "code",
   "execution_count": 2,
   "metadata": {},
   "outputs": [
    {
     "output_type": "execute_result",
     "data": {
      "text/plain": [
       "{'health': 490, 'mana': 334, 'melee': 550, 'armor': 18.72}"
      ]
     },
     "metadata": {},
     "execution_count": 2
    }
   ],
   "source": [
    "#딕셔너리 만드는 또 다른 방법1\n",
    "lux1 = dict(health=490,mana=334,melee=550,armor=18.72)\n",
    "\n",
    "lux1"
   ]
  },
  {
   "cell_type": "code",
   "execution_count": 3,
   "metadata": {},
   "outputs": [
    {
     "output_type": "execute_result",
     "data": {
      "text/plain": [
       "{'health': 490, 'mana': 334, 'melee': 550, 'armor': 18.72}"
      ]
     },
     "metadata": {},
     "execution_count": 3
    }
   ],
   "source": [
    "#딕셔너리 만드는 또 다른 방법2\n",
    "lux2 = dict([('health',490),('mana',334),('melee',550),('armor',18.72)])\n",
    "\n",
    "lux2"
   ]
  },
  {
   "cell_type": "code",
   "execution_count": 4,
   "metadata": {},
   "outputs": [
    {
     "output_type": "execute_result",
     "data": {
      "text/plain": [
       "{1: 'a', 2: 'b', 3: 'c'}"
      ]
     },
     "metadata": {},
     "execution_count": 4
    }
   ],
   "source": [
    "#딕셔너리 만드는 또 다른 방법3\n",
    "\n",
    "a = dict(zip([1,2,3],['a','b','c']))\n",
    "a"
   ]
  },
  {
   "cell_type": "code",
   "execution_count": 5,
   "metadata": {},
   "outputs": [
    {
     "output_type": "execute_result",
     "data": {
      "text/plain": [
       "{'health': 490, 'mana': 334, 'melee': 550, 'armor': 18.72}"
      ]
     },
     "metadata": {},
     "execution_count": 5
    }
   ],
   "source": [
    "#딕셔너리 만드는 또 다른 방법4\n",
    "\n",
    "key_list = ['health','mana','melee','armor']\n",
    "value_list = [490,334,550,18.72]\n",
    "\n",
    "lux3 = dict(zip(key_list, value_list))\n",
    "lux3"
   ]
  },
  {
   "source": [
    "### 딕셔너리 참조하기\n"
   ],
   "cell_type": "markdown",
   "metadata": {}
  },
  {
   "cell_type": "code",
   "execution_count": 6,
   "metadata": {},
   "outputs": [
    {
     "output_type": "execute_result",
     "data": {
      "text/plain": [
       "490"
      ]
     },
     "metadata": {},
     "execution_count": 6
    }
   ],
   "source": [
    "lux['health']"
   ]
  },
  {
   "cell_type": "code",
   "execution_count": 7,
   "metadata": {},
   "outputs": [
    {
     "output_type": "execute_result",
     "data": {
      "text/plain": [
       "{'health': 490, 'mana': 434, 'melee': 550, 'armor': 18.72}"
      ]
     },
     "metadata": {},
     "execution_count": 7
    }
   ],
   "source": [
    "# 값 업데이트\n",
    "lux['mana'] += 100 \n",
    "lux"
   ]
  },
  {
   "cell_type": "code",
   "execution_count": 8,
   "metadata": {},
   "outputs": [
    {
     "output_type": "execute_result",
     "data": {
      "text/plain": [
       "{'health': 490, 'mana': 434, 'melee': 550, 'armor': 18.72, 'mana_regen': 3.28}"
      ]
     },
     "metadata": {},
     "execution_count": 8
    }
   ],
   "source": [
    "# 딕셔너리 추가하기\n",
    "lux['mana_regen'] = 3.28\n",
    "\n",
    "lux"
   ]
  },
  {
   "source": [
    "* 딕셔너리 값 삭제하기"
   ],
   "cell_type": "markdown",
   "metadata": {}
  },
  {
   "cell_type": "code",
   "execution_count": 9,
   "metadata": {},
   "outputs": [
    {
     "output_type": "execute_result",
     "data": {
      "text/plain": [
       "{'health': 490, 'mana': 434, 'melee': 550, 'armor': 18.72}"
      ]
     },
     "metadata": {},
     "execution_count": 9
    }
   ],
   "source": [
    "lux.pop('mana_regen')\n",
    "\n",
    "lux"
   ]
  },
  {
   "cell_type": "code",
   "execution_count": 10,
   "metadata": {},
   "outputs": [
    {
     "output_type": "execute_result",
     "data": {
      "text/plain": [
       "{'health': 490, 'mana': 434, 'melee': 550}"
      ]
     },
     "metadata": {},
     "execution_count": 10
    }
   ],
   "source": [
    "del lux['armor']\n",
    "lux"
   ]
  },
  {
   "source": [
    "* 딕셔너리의 키,값들을 가져오기"
   ],
   "cell_type": "markdown",
   "metadata": {}
  },
  {
   "cell_type": "code",
   "execution_count": 11,
   "metadata": {},
   "outputs": [
    {
     "output_type": "execute_result",
     "data": {
      "text/plain": [
       "dict_keys(['health', 'mana', 'melee', 'armor'])"
      ]
     },
     "metadata": {},
     "execution_count": 11
    }
   ],
   "source": [
    "lux2.keys()"
   ]
  },
  {
   "cell_type": "code",
   "execution_count": 12,
   "metadata": {},
   "outputs": [
    {
     "output_type": "execute_result",
     "data": {
      "text/plain": [
       "dict_values([490, 334, 550, 18.72])"
      ]
     },
     "metadata": {},
     "execution_count": 12
    }
   ],
   "source": [
    "lux2.values()"
   ]
  },
  {
   "source": [
    "* 딕셔너리 반복문"
   ],
   "cell_type": "markdown",
   "metadata": {}
  },
  {
   "cell_type": "code",
   "execution_count": 13,
   "metadata": {},
   "outputs": [
    {
     "output_type": "execute_result",
     "data": {
      "text/plain": [
       "dict_items([('health', 490), ('mana', 434), ('melee', 550)])"
      ]
     },
     "metadata": {},
     "execution_count": 13
    }
   ],
   "source": [
    "lux.items()"
   ]
  },
  {
   "cell_type": "code",
   "execution_count": 14,
   "metadata": {},
   "outputs": [
    {
     "output_type": "stream",
     "name": "stdout",
     "text": [
      "health 490 490\nmana 434 434\nmelee 550 550\n"
     ]
    }
   ],
   "source": [
    "for key, value in lux.items():\n",
    "    print(key, value, lux[key])"
   ]
  },
  {
   "cell_type": "code",
   "execution_count": 15,
   "metadata": {},
   "outputs": [
    {
     "output_type": "stream",
     "name": "stdout",
     "text": [
      "health 490\nmana 434\nmelee 550\n"
     ]
    }
   ],
   "source": [
    "for key in lux.keys():\n",
    "    print(key, lux[key])"
   ]
  },
  {
   "source": [
    "* 중첩 딕셔너리"
   ],
   "cell_type": "markdown",
   "metadata": {}
  },
  {
   "cell_type": "code",
   "execution_count": 16,
   "metadata": {},
   "outputs": [
    {
     "output_type": "stream",
     "name": "stdout",
     "text": [
      "6051.8\n"
     ]
    }
   ],
   "source": [
    "terrestrial_planet = {\n",
    "    'Mercury': {\n",
    "        'mean_radius': 2439.7,\n",
    "        'mass': 3.3022E+23,\n",
    "        'orbital_period': 87.969\n",
    "    },\n",
    "    'Venus': {\n",
    "        'mean_radius': 6051.8,\n",
    "        'mass': 4.8676E+24,\n",
    "        'orbital_period': 224.70069,\n",
    "    },\n",
    "    'Earth': {\n",
    "        'mean_radius': 6371.0,\n",
    "        'mass': 5.97219E+24,\n",
    "        'orbital_period': 365.25641,\n",
    "    },\n",
    "    'Mars': {\n",
    "        'mean_radius': 3389.5,\n",
    "        'mass': 6.4185E+23,\n",
    "        'orbital_period': 686.9600,\n",
    "    }\n",
    "}\n",
    " \n",
    "print(terrestrial_planet['Venus']['mean_radius'])"
   ]
  },
  {
   "cell_type": "code",
   "execution_count": 17,
   "metadata": {},
   "outputs": [
    {
     "output_type": "execute_result",
     "data": {
      "text/plain": [
       "{'mean_radius': 6371.0, 'mass': 5.97219e+24, 'orbital_period': 365.25641}"
      ]
     },
     "metadata": {},
     "execution_count": 17
    }
   ],
   "source": [
    "terrestrial_planet['Earth'] # 출력 값이 딕셔너리 "
   ]
  },
  {
   "cell_type": "code",
   "execution_count": 18,
   "metadata": {},
   "outputs": [
    {
     "output_type": "execute_result",
     "data": {
      "text/plain": [
       "365.25641"
      ]
     },
     "metadata": {},
     "execution_count": 18
    }
   ],
   "source": [
    "# 지구의 공전주기를 구해보자\n",
    "terrestrial_planet['Earth']['orbital_period']"
   ]
  },
  {
   "source": [
    "### 5.collections 모듈\n",
    "\n",
    "앞에서 배운 다양한 자료구조인 리스트, 튜플, 딕셔너리 등을 확장해서 제작된 파이선의 내장 모듈  \n",
    "deque, OrderedDict, defaultdict, Counter, nametuple등을 제공한다.  \n",
    "_____________________\n",
    "* deque : 스택과 큐를 모두 지원하는 모듈, 리스트처럼 만들어서 활용한다  \n",
    "연결 리스트의 특성을 지원한다. "
   ],
   "cell_type": "markdown",
   "metadata": {}
  },
  {
   "cell_type": "code",
   "execution_count": 19,
   "metadata": {},
   "outputs": [
    {
     "output_type": "execute_result",
     "data": {
      "text/plain": [
       "deque([0, 1, 2, 3, 4])"
      ]
     },
     "metadata": {},
     "execution_count": 19
    }
   ],
   "source": [
    "from collections import deque\n",
    "\n",
    "\n",
    "#스택 만들기\n",
    "stack = deque()\n",
    "\n",
    "for i in range(5):\n",
    "    stack.append(i)\n",
    "stack"
   ]
  },
  {
   "cell_type": "code",
   "execution_count": 20,
   "metadata": {},
   "outputs": [
    {
     "output_type": "stream",
     "name": "stdout",
     "text": [
      "4\n3\n2\n1\n0\n"
     ]
    }
   ],
   "source": [
    "for _ in range(len(stack)):\n",
    "    print(stack.pop())"
   ]
  },
  {
   "cell_type": "code",
   "execution_count": 21,
   "metadata": {},
   "outputs": [
    {
     "output_type": "execute_result",
     "data": {
      "text/plain": [
       "deque([0, 1, 2, 3, 4])"
      ]
     },
     "metadata": {},
     "execution_count": 21
    }
   ],
   "source": [
    "#큐 만들기\n",
    "queue = deque()\n",
    "\n",
    "for i in range(5):\n",
    "    queue.append(i)\n",
    "queue"
   ]
  },
  {
   "cell_type": "code",
   "execution_count": 23,
   "metadata": {},
   "outputs": [],
   "source": [
    "for _ in range(len(queue)):\n",
    "    print(queue.pop())"
   ]
  },
  {
   "cell_type": "code",
   "execution_count": 24,
   "metadata": {},
   "outputs": [
    {
     "output_type": "execute_result",
     "data": {
      "text/plain": [
       "deque([0, 1, 2, 3, 4])"
      ]
     },
     "metadata": {},
     "execution_count": 24
    }
   ],
   "source": [
    "# deque의 특성1\n",
    "circular = deque()\n",
    "\n",
    "for i in range(5):\n",
    "    circular.append(i)\n",
    "circular"
   ]
  },
  {
   "cell_type": "code",
   "execution_count": 25,
   "metadata": {},
   "outputs": [
    {
     "output_type": "execute_result",
     "data": {
      "text/plain": [
       "deque([4, 0, 1, 2, 3])"
      ]
     },
     "metadata": {},
     "execution_count": 25
    }
   ],
   "source": [
    "# rotate를 이용해서 위치를 변경할 수 있다.\n",
    "circular.rotate(1)\n",
    "circular"
   ]
  },
  {
   "source": [
    "* OrderDict : 순서를 가진 딕셔너리 객체. 원래의 딕셔너리는 저장 순서와 상관없이 저장되는데, 이것은 그렇지 않다.  \n",
    "\n",
    "    from collections import OrderDict"
   ],
   "cell_type": "markdown",
   "metadata": {}
  },
  {
   "cell_type": "code",
   "execution_count": 27,
   "metadata": {},
   "outputs": [
    {
     "output_type": "stream",
     "name": "stdout",
     "text": [
      "x 100\ny 200\nk 300\n"
     ]
    }
   ],
   "source": [
    "from collections import OrderedDict\n",
    "\n",
    "#OrderedDict의 경우 \n",
    "d = OrderedDict()\n",
    "d['x'] = 100\n",
    "d['y'] = 200\n",
    "d['k'] = 300\n",
    "\n",
    "for i,j in d.items():\n",
    "    print(i,j)"
   ]
  },
  {
   "cell_type": "code",
   "execution_count": 29,
   "metadata": {},
   "outputs": [
    {
     "output_type": "stream",
     "name": "stdout",
     "text": [
      "x 100\ny 200\nk 300\n"
     ]
    }
   ],
   "source": [
    "#Dict의 경우 \n",
    "od = dict()\n",
    "od['x'] = 100\n",
    "od['y'] = 200\n",
    "od['k'] = 300\n",
    "\n",
    "for i,j in od.items():\n",
    "    print(i,j)"
   ]
  },
  {
   "source": [
    "ㄴ> 데이터 숫자가 적은 경우에는 티가 잘 안난다...."
   ],
   "cell_type": "markdown",
   "metadata": {}
  },
  {
   "cell_type": "code",
   "execution_count": 30,
   "metadata": {},
   "outputs": [],
   "source": [
    "def sort_by_key(t):\n",
    "    return t[0]"
   ]
  },
  {
   "cell_type": "code",
   "execution_count": 32,
   "metadata": {},
   "outputs": [
    {
     "output_type": "stream",
     "name": "stdout",
     "text": [
      "k 300\nx 100\ny 200\n"
     ]
    }
   ],
   "source": [
    "for k, v in OrderedDict(sorted(d.items(),key=sort_by_key)).items():\n",
    "    print(k,v)"
   ]
  },
  {
   "source": [
    "* defaultdict : 새로운 값을 가져오면 바로 0으로 만든다. (초기값 지정 시 사용)  \n",
    "* Counter모듈 : 시퀀스 자료형의 데이터요소 개수를 딕셔너리 형태로 변환하는 자료구조."
   ],
   "cell_type": "markdown",
   "metadata": {}
  },
  {
   "cell_type": "code",
   "execution_count": 33,
   "metadata": {},
   "outputs": [
    {
     "output_type": "execute_result",
     "data": {
      "text/plain": [
       "Counter({'e': 3, 'h': 1, 'l': 2, 's': 2, 'n': 1, 'k': 1, 't': 1})"
      ]
     },
     "metadata": {},
     "execution_count": 33
    }
   ],
   "source": [
    "from collections import Counter\n",
    "\n",
    "text = list(\"ehlsnektlse\")\n",
    "Counter(text)"
   ]
  },
  {
   "cell_type": "code",
   "execution_count": 34,
   "metadata": {},
   "outputs": [
    {
     "output_type": "execute_result",
     "data": {
      "text/plain": [
       "Counter({'1': 2, '2': 1, '3': 1, '4': 2, '5': 1, '6': 1})"
      ]
     },
     "metadata": {},
     "execution_count": 34
    }
   ],
   "source": [
    "number = list(\"12345641\")\n",
    "Counter(number)"
   ]
  },
  {
   "cell_type": "code",
   "execution_count": 38,
   "metadata": {},
   "outputs": [
    {
     "output_type": "execute_result",
     "data": {
      "text/plain": [
       "Counter({'What': 1, 'a': 1, 'good': 1, 'day.': 1})"
      ]
     },
     "metadata": {},
     "execution_count": 38
    }
   ],
   "source": [
    "words = \"What a good day.\"\n",
    "rds = \"What a good day.\"\n",
    "Counter(words.split()) # 이렇게 하면 단어 단위로 보여준다"
   ]
  },
  {
   "source": [
    "* namedtuple : 튜플의 형태로 데이터 구조체를 저장하는 방법"
   ],
   "cell_type": "markdown",
   "metadata": {}
  }
 ]
}