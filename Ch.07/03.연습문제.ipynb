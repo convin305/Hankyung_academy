{
 "metadata": {
  "language_info": {
   "codemirror_mode": {
    "name": "ipython",
    "version": 3
   },
   "file_extension": ".py",
   "mimetype": "text/x-python",
   "name": "python",
   "nbconvert_exporter": "python",
   "pygments_lexer": "ipython3",
   "version": "3.8.5"
  },
  "orig_nbformat": 2,
  "kernelspec": {
   "name": "python385jvsc74a57bd08c1eae21719a0790335dcb83aad72b63b602cfe5cdb2bda0f60bc11d4f154e4b",
   "display_name": "Python 3.8.5 64-bit ('base': conda)"
  }
 },
 "nbformat": 4,
 "nbformat_minor": 2,
 "cells": [
  {
   "source": [
    "## 1. 시저 암호\n",
    "\n",
    "어떤 암호를 만들 문장과 n을 입력했을 때 암호를 만들어 출력하는 프로그램을 작성하시오.  \n",
    "입력 : 화면에서 문자열과 n값을 입력받는다.(예. ROSE 5)\n",
    "출력 : 암호화된 문자열을 출력"
   ],
   "cell_type": "markdown",
   "metadata": {}
  },
  {
   "cell_type": "code",
   "execution_count": 18,
   "metadata": {},
   "outputs": [],
   "source": [
    "def caesar_cipher():\n",
    "    words,n = input(\"문자열과 n값을 입력하세요\").split()\n",
    "    n = int(n)\n",
    "    caesar_word = \"\".join(chr(ord(c) + n) for c in words)\n",
    "    return caesar_word"
   ]
  },
  {
   "cell_type": "code",
   "execution_count": 19,
   "metadata": {},
   "outputs": [
    {
     "output_type": "execute_result",
     "data": {
      "text/plain": [
       "'wtxj'"
      ]
     },
     "metadata": {},
     "execution_count": 19
    }
   ],
   "source": [
    "caesar_cipher()"
   ]
  },
  {
   "source": [
    "## 2.Unit 12 심사문제\n",
    "\n",
    "두 줄을 입력받아 딕셔너리로 반환"
   ],
   "cell_type": "markdown",
   "metadata": {}
  },
  {
   "cell_type": "code",
   "execution_count": 25,
   "metadata": {},
   "outputs": [
    {
     "output_type": "stream",
     "name": "stdout",
     "text": [
      "{'health': 35.7, 'mana': 35.7, 'melee': 35.7, 'attack_speed': 35.7, 'magic_resistance': 35.7}\n"
     ]
    }
   ],
   "source": [
    "# case 1\n",
    "keys = input(\"첫번째 줄을 입력하세요\").split()\n",
    "values = input(\"두번째 줄을 입력하세요\").split()\n",
    "\n",
    "dic = {}\n",
    "\n",
    "for k in keys:\n",
    "    for v in values:\n",
    "        dic[k]=float(v)\n",
    "\n",
    "print(dic)"
   ]
  },
  {
   "cell_type": "code",
   "execution_count": 26,
   "metadata": {},
   "outputs": [
    {
     "output_type": "execute_result",
     "data": {
      "text/plain": [
       "{'health': 573.6,\n",
       " 'mana': 308.8,\n",
       " 'melee': 600.0,\n",
       " 'attack_speed': 0.625,\n",
       " 'magic_resistance': 35.7}"
      ]
     },
     "metadata": {},
     "execution_count": 26
    }
   ],
   "source": [
    "# case 2\n",
    "keys = input(\"첫번째 줄을 입력하세요\").split()\n",
    "values = map(float,input(\"두번째 줄을 입력하세요\").split())\n",
    "\n",
    "dic = dict(zip(keys, values))\n",
    "dic"
   ]
  },
  {
   "source": [
    "## 3.Unit 25 심사문제\n",
    "두 줄을 입력받아 딕셔너리를 생성하고, 키가 'delta'거나 값이 30인 것을 삭제"
   ],
   "cell_type": "markdown",
   "metadata": {}
  },
  {
   "cell_type": "code",
   "execution_count": 55,
   "metadata": {},
   "outputs": [
    {
     "output_type": "execute_result",
     "data": {
      "text/plain": [
       "{'bravo': 40, 'charlie': 50, 'echo': 70, 'foxtrot': 80, 'golf': 90}"
      ]
     },
     "metadata": {},
     "execution_count": 55
    }
   ],
   "source": [
    "keys = input().split()\n",
    "values = map(int, input().split())\n",
    " \n",
    "x = dict(zip(keys, values))\n",
    "\n",
    "def get_key(val):\n",
    "    for k,v in x.items():\n",
    "        if val == v:\n",
    "            return k\n",
    "\n",
    "del x['delta']\n",
    "del x[get_key(30)]\n",
    "\n",
    "x"
   ]
  },
  {
   "source": [
    "## 4.Unit 24 심사문제 5  \n",
    "\n",
    "입력된 문자열에서 \"the\"의 개수를 출력하는 프로그램"
   ],
   "cell_type": "markdown",
   "metadata": {}
  },
  {
   "cell_type": "code",
   "execution_count": 81,
   "metadata": {},
   "outputs": [],
   "source": [
    "def word_count():\n",
    "    find_word = input(\"찾을 단어 입력\")\n",
    "    words = input(\"문자열을 입력하시오\")\n",
    "    charactors = \".,-'\"\n",
    "\n",
    "    words = \"\".join( x for x in words if x not in charactors)\n",
    "    words = words.split()\n",
    "    print(f\"{find_word}는 문자열에서 {words.count(find_word)}개가 있습니다.\")"
   ]
  },
  {
   "cell_type": "code",
   "execution_count": 82,
   "metadata": {},
   "outputs": [
    {
     "output_type": "stream",
     "name": "stdout",
     "text": [
      "the는 문자열에서 6개가 있습니다.\n"
     ]
    }
   ],
   "source": [
    "word_count()"
   ]
  },
  {
   "source": [
    "## 5.Unit 24 심사문제 6\n",
    "가격 입력은 세미콜론으로 구분, 입력된 가격을 높은 순으로 출력하며, 천단위로 콤마를 넣을 것"
   ],
   "cell_type": "markdown",
   "metadata": {}
  },
  {
   "cell_type": "code",
   "execution_count": 16,
   "metadata": {},
   "outputs": [
    {
     "output_type": "stream",
     "name": "stdout",
     "text": [
      "1,304,000\n  367,500\n  250,000\n  158,000\n  128,500\n   83,000\n   59,200\n   51,900\n"
     ]
    }
   ],
   "source": [
    "prices = list(map(int,input(\"가격을 입력하세요\").split(\";\")))\n",
    "prices = sorted(prices,reverse=True)\n",
    "for each in prices:\n",
    "    price = f'{each:,}'\n",
    "    print(price.rjust(9))"
   ]
  }
 ]
}