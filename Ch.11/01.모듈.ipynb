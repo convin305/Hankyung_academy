{
 "metadata": {
  "language_info": {
   "codemirror_mode": {
    "name": "ipython",
    "version": 3
   },
   "file_extension": ".py",
   "mimetype": "text/x-python",
   "name": "python",
   "nbconvert_exporter": "python",
   "pygments_lexer": "ipython3",
   "version": "3.8.5"
  },
  "orig_nbformat": 2,
  "kernelspec": {
   "name": "python385jvsc74a57bd08c1eae21719a0790335dcb83aad72b63b602cfe5cdb2bda0f60bc11d4f154e4b",
   "display_name": "Python 3.8.5 64-bit ('base': conda)"
  }
 },
 "nbformat": 4,
 "nbformat_minor": 2,
 "cells": [
  {
   "source": [
    "# Chap.11 모듈과 패키지\n",
    "\n",
    "### 1.모듈 만들기\n",
    "\n",
    "일반적으로 해왔던 방법"
   ],
   "cell_type": "markdown",
   "metadata": {}
  },
  {
   "cell_type": "code",
   "execution_count": 6,
   "metadata": {},
   "outputs": [],
   "source": [
    "def convert_c2f(celcius_value):\n",
    "    return celcius_value * 9. / 5 + 32"
   ]
  },
  {
   "cell_type": "code",
   "execution_count": 9,
   "metadata": {},
   "outputs": [
    {
     "output_type": "stream",
     "name": "stdout",
     "text": [
      "섭씨 온도 : 19.0, 화씨 온도 : 66.2\n"
     ]
    }
   ],
   "source": [
    "celcius = float(input(\"섭씨 온도\"))\n",
    "\n",
    "farenheit = convert_c2f(celcius)\n",
    "print(f'섭씨 온도 : {celcius}, 화씨 온도 : {farenheit}')"
   ]
  },
  {
   "source": [
    "모듈 스타일로 하는 방법"
   ],
   "cell_type": "markdown",
   "metadata": {}
  },
  {
   "cell_type": "code",
   "execution_count": 10,
   "metadata": {},
   "outputs": [
    {
     "output_type": "stream",
     "name": "stdout",
     "text": [
      "섭씨 온도 : 19.0, 화씨 온도 : 66.2\n"
     ]
    }
   ],
   "source": [
    "import module1 as m1 #약칭도 지정 가능\n",
    "\n",
    "celcius = float(input(\"섭씨 온도\"))\n",
    "\n",
    "farenheit = m1.convert_c2f_m(celcius)\n",
    "print(f'섭씨 온도 : {celcius}, 화씨 온도 : {farenheit}')"
   ]
  },
  {
   "cell_type": "code",
   "execution_count": 11,
   "metadata": {},
   "outputs": [
    {
     "output_type": "stream",
     "name": "stdout",
     "text": [
      "섭씨 온도 : 19.0, 화씨 온도 : 66.2\n"
     ]
    }
   ],
   "source": [
    "from module1 import convert_c2f_m # 모듈안의 함수 사용할 때 앞의 모듈명 빼는 방법\n",
    "\n",
    "celcius = float(input(\"섭씨 온도\"))\n",
    "\n",
    "farenheit = convert_c2f_m(celcius)\n",
    "print(f'섭씨 온도 : {celcius}, 화씨 온도 : {farenheit}')"
   ]
  },
  {
   "source": [
    "### 2. 내장모듈"
   ],
   "cell_type": "markdown",
   "metadata": {}
  },
  {
   "cell_type": "code",
   "execution_count": 6,
   "metadata": {},
   "outputs": [
    {
     "output_type": "execute_result",
     "data": {
      "text/plain": [
       "(0.6229016948897019, 194)"
      ]
     },
     "metadata": {},
     "execution_count": 6
    }
   ],
   "source": [
    "import random\n",
    "random.seed(5)\n",
    "random.random(), random.randint(100,200)"
   ]
  }
 ]
}