{
 "metadata": {
  "language_info": {
   "codemirror_mode": {
    "name": "ipython",
    "version": 3
   },
   "file_extension": ".py",
   "mimetype": "text/x-python",
   "name": "python",
   "nbconvert_exporter": "python",
   "pygments_lexer": "ipython3",
   "version": "3.8.5"
  },
  "orig_nbformat": 2,
  "kernelspec": {
   "name": "python385jvsc74a57bd08c1eae21719a0790335dcb83aad72b63b602cfe5cdb2bda0f60bc11d4f154e4b",
   "display_name": "Python 3.8.5 64-bit ('base': conda)"
  }
 },
 "nbformat": 4,
 "nbformat_minor": 2,
 "cells": [
  {
   "source": [
    "## 1. Unit 13 심사문제  \n",
    "\n",
    "쿠폰에 따라 할인된 가격을 출력하는 프로그램을 만드세요"
   ],
   "cell_type": "markdown",
   "metadata": {}
  },
  {
   "cell_type": "code",
   "execution_count": 1,
   "metadata": {},
   "outputs": [
    {
     "output_type": "stream",
     "name": "stdout",
     "text": [
      "가격 : 27000원, 할인 : 3000원, 최종 가격 : 24000원\n"
     ]
    }
   ],
   "source": [
    "price = int(input(\"가격 입력\"))\n",
    "discount = int(input(\"쿠폰 입력\")[4:])\n",
    "\n",
    "print(f'가격 : {price}원, 할인 : {discount}원, 최종 가격 : {price - discount}원')"
   ]
  },
  {
   "source": [
    "## 2. Unit 14 심사문제\n",
    "\n",
    "국어, 영어, 수학, 과학 네 과목의 평균 점수가 80점 이상일 때 합격  \n",
    "평균 점수에 따라 '합격', '불합격'을 출력하는 프로그램작성  \n",
    "점수는 0점부터 100점까지만 입력받을 수 있으며 범위를 벗어났다면 '잘못된 점수'를 출력하고 합격, 불합격 여부는 출력하지 않기"
   ],
   "cell_type": "markdown",
   "metadata": {}
  },
  {
   "cell_type": "code",
   "execution_count": 4,
   "metadata": {},
   "outputs": [
    {
     "output_type": "stream",
     "name": "stdout",
     "text": [
      "입력된 점수 - 국어 99점 , 영어 85점 , 수학 101점 , 과학 90점\n잘못된 점수\n"
     ]
    }
   ],
   "source": [
    "korean, english, math, science = map(int,input(\"점수를 입력하세요\").split())\n",
    "\n",
    "print(f'입력된 점수 - 국어 {korean}점 , 영어 {english}점 , 수학 {math}점 , 과학 {science}점')\n",
    "\n",
    "if korean < 0 or korean > 100 or english <0 or english > 100 or math < 0 or math > 100 or science < 0 or science >100:\n",
    "    print(\"잘못된 점수\")\n",
    "else :\n",
    "    avg_score = (korean + english + math + science) / 4\n",
    "    if avg_score >= 80 :\n",
    "        print(\"합격\")\n",
    "    else :\n",
    "        print(\"불합격\")\n"
   ]
  },
  {
   "source": [
    "## 3. Unit 15 심사문제\n",
    "\n",
    "각 나이에 맞게 요금을 차감한 뒤 잔액이 출력되기 만들기.  \n",
    "현재 잔액 : 9000원\n",
    "\n",
    "* 어린이 (만 7세 이상 - 12세 이하) : 650원\n",
    "* 청소년 (만 13세 이상 - 18세 이하) : 1050원\n",
    "* 어른 (만 19세 이싱) : 1250원"
   ],
   "cell_type": "markdown",
   "metadata": {}
  },
  {
   "cell_type": "code",
   "execution_count": 5,
   "metadata": {},
   "outputs": [
    {
     "output_type": "stream",
     "name": "stdout",
     "text": [
      "12살의 요금은 650원 이며, 잔액은 8350원 입니다.\n"
     ]
    }
   ],
   "source": [
    "age = int(input(\"나이 입력\"))\n",
    "balance = 9000    # 교통카드 잔액\n",
    "\n",
    "if 7 <= age <= 12 :\n",
    "    fare = 650\n",
    "elif 13 <= age <= 18 :\n",
    "    fare= 1050\n",
    "elif 19 <= age:\n",
    "    fare = 1250\n",
    "else :\n",
    "    fare = 0\n",
    "\n",
    "print(f'{age}살의 요금은 {fare}원 이며, 잔액은 {balance-fare}원 입니다.')"
   ]
  },
  {
   "source": [
    "## Unit 16 심사문제 \n",
    "\n",
    "입력한 정수의 구구단을 출력하는 프로그램 작성.  \n",
    "출력 형식은 숫자 * 숫자 = 숫자, 숫자와 각 특수문자 사이는 공백을 한 칸 띄운다."
   ],
   "cell_type": "markdown",
   "metadata": {}
  },
  {
   "cell_type": "code",
   "execution_count": 6,
   "metadata": {},
   "outputs": [
    {
     "output_type": "stream",
     "name": "stdout",
     "text": [
      "2 * 1 = 2\n2 * 2 = 4\n2 * 3 = 6\n2 * 4 = 8\n2 * 5 = 10\n2 * 6 = 12\n2 * 7 = 14\n2 * 8 = 16\n2 * 9 = 18\n"
     ]
    }
   ],
   "source": [
    "num = int(input(\"숫자를 입력하세요\"))\n",
    "\n",
    "for i in range(1,10):\n",
    "    print(f\"{num} * {i} = {num*i}\")"
   ]
  },
  {
   "source": [
    "## Unit 17 심사문제\n",
    "1회당 요금은 1350이고, 교통카드를 사용했을 때마다의 잔액을 각 줄에 출력하는 프로그램을 작성  \n",
    "단, 최초 금액은 출력하지 않고, 잔액이 부족하면 출력을 끝내기"
   ],
   "cell_type": "markdown",
   "metadata": {}
  },
  {
   "cell_type": "code",
   "execution_count": 7,
   "metadata": {},
   "outputs": [
    {
     "output_type": "stream",
     "name": "stdout",
     "text": [
      "최초 잔액 : 10000원\n8650\n7300\n5950\n4600\n3250\n1900\n550\n"
     ]
    }
   ],
   "source": [
    "balance = int(input(\"잔액 입력\"))\n",
    "print(f'최초 잔액 : {balance}원')\n",
    "\n",
    "fare = 1350\n",
    "\n",
    "while balance-fare >= 0 :\n",
    "    balance -= fare\n",
    "    print(balance)"
   ]
  },
  {
   "source": [
    "* 객체지향 방식으로 작성해보기.  \n",
    "    Tmoney 클래스 생성"
   ],
   "cell_type": "markdown",
   "metadata": {}
  },
  {
   "cell_type": "code",
   "execution_count": 24,
   "metadata": {},
   "outputs": [],
   "source": [
    "class Tmoney():\n",
    "    def __init__(self, balance):\n",
    "        self.balance = balance\n",
    "\n",
    "    def pay(self, fare):\n",
    "        if self.balance > fare :\n",
    "            self.balance -= fare\n",
    "            print(f'남은 잔액은 {self.balance}원 입니다.')\n",
    "        else : \n",
    "            print(f'지불 불가') #JIC"
   ]
  },
  {
   "cell_type": "code",
   "execution_count": 56,
   "metadata": {
    "tags": []
   },
   "outputs": [
    {
     "output_type": "stream",
     "name": "stdout",
     "text": [
      "남은 잔액은 12150원 입니다.\n남은 잔액은 10800원 입니다.\n남은 잔액은 9450원 입니다.\n남은 잔액은 8100원 입니다.\n남은 잔액은 6750원 입니다.\n남은 잔액은 5400원 입니다.\n남은 잔액은 4050원 입니다.\n남은 잔액은 2700원 입니다.\n남은 잔액은 1350원 입니다.\n"
     ]
    }
   ],
   "source": [
    "balance = 13500\n",
    "fare = 1350\n",
    "card = Tmoney(balance)\n",
    "\n",
    "while True :\n",
    "    if card.balance <= fare :\n",
    "        break\n",
    "    card.pay(fare)"
   ]
  },
  {
   "source": [
    "## Unit 18 심사문제\n",
    "입력 : 1 ~ 200 사이의 정수 하나, 10 ~ 200 사이의 정수 하나  \n",
    "첫번째 정수와 두번째 정수 사이의 숫자 중 3으로 끝나지 않는 숫자가 출력되도록 만들기.  "
   ],
   "cell_type": "markdown",
   "metadata": {}
  },
  {
   "cell_type": "code",
   "execution_count": 8,
   "metadata": {},
   "outputs": [
    {
     "output_type": "stream",
     "name": "stdout",
     "text": [
      "21 22 24 25 26 27 28 29 30 31 32 "
     ]
    }
   ],
   "source": [
    "start, stop = map(int, input().split())\n",
    " \n",
    "i = start\n",
    " \n",
    "while True:\n",
    "    if i % 10 == 3:\n",
    "        i += 1\n",
    "        continue\n",
    "    if i > stop:\n",
    "        break\n",
    "    print(i, end=\" \")\n",
    "    i += 1\n",
    "    "
   ]
  }
 ]
}