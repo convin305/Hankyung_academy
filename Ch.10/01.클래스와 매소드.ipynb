{
 "metadata": {
  "language_info": {
   "codemirror_mode": {
    "name": "ipython",
    "version": 3
   },
   "file_extension": ".py",
   "mimetype": "text/x-python",
   "name": "python",
   "nbconvert_exporter": "python",
   "pygments_lexer": "ipython3",
   "version": "3.8.5"
  },
  "orig_nbformat": 2,
  "kernelspec": {
   "name": "python385jvsc74a57bd08c1eae21719a0790335dcb83aad72b63b602cfe5cdb2bda0f60bc11d4f154e4b",
   "display_name": "Python 3.8.5 64-bit ('base': conda)"
  }
 },
 "nbformat": 4,
 "nbformat_minor": 2,
 "cells": [
  {
   "source": [
    "# 객체 지향 프로그래밍 Object Oriented Programming\n",
    "\n",
    "함수처럼 어떤 기능을 함수 코드에 묶어두는 것이 아니라,  \n",
    "그런 기능을 묶은 하나의 단일 프로그램을 객체라고 하는 코드에 넣어서  \n",
    "다른 프로그래머가 재사용할 수 있도록 하는 컴퓨터 공학의 오래된 프로그래밍 기법 중 하나이다.  \n",
    "\n",
    "* 객체 : 실생활에 존재하는 실제적인 물건 또는 개념 - 심판, 선수, 팀 등  \n",
    "* 속성 : 객체가 가지고 있는 변수 -선수의 이름, 포지션, 소속팀 등  \n",
    "* 변수 : 객체가 실제로 작동할 수 있는 (함수)매서드 - 공을 차다, 패스하다 등 "
   ],
   "cell_type": "markdown",
   "metadata": {}
  },
  {
   "source": [
    "### 1. 클래스와 매소드"
   ],
   "cell_type": "markdown",
   "metadata": {}
  },
  {
   "cell_type": "code",
   "execution_count": 10,
   "metadata": {},
   "outputs": [],
   "source": [
    "class Person:\n",
    "    def greeting(self):\n",
    "        print(\"Hello\")"
   ]
  },
  {
   "cell_type": "code",
   "execution_count": 11,
   "metadata": {},
   "outputs": [],
   "source": [
    "# instance 만들기(생성자, Constructor)\n",
    "james = Person()"
   ]
  },
  {
   "cell_type": "code",
   "execution_count": 12,
   "metadata": {},
   "outputs": [
    {
     "output_type": "stream",
     "name": "stdout",
     "text": [
      "Hello\n"
     ]
    }
   ],
   "source": [
    "#매소드 호출\n",
    "james.greeting()"
   ]
  },
  {
   "source": [
    "### 2. 속성"
   ],
   "cell_type": "markdown",
   "metadata": {}
  },
  {
   "cell_type": "code",
   "execution_count": 14,
   "metadata": {},
   "outputs": [],
   "source": [
    "# Hello 라는 속성을 갖는 클래스 \n",
    "class Person():\n",
    "    def __init__(self):\n",
    "        self.hello = \"안녕하세요?\"\n",
    "    def greeting(self):\n",
    "        print(self.hello)"
   ]
  },
  {
   "cell_type": "code",
   "execution_count": 16,
   "metadata": {},
   "outputs": [
    {
     "output_type": "stream",
     "name": "stdout",
     "text": [
      "안녕하세요?\n"
     ]
    }
   ],
   "source": [
    "sumin = Person()\n",
    "sumin.greeting()"
   ]
  },
  {
   "cell_type": "code",
   "execution_count": 17,
   "metadata": {},
   "outputs": [
    {
     "output_type": "execute_result",
     "data": {
      "text/plain": [
       "'안녕하세요?'"
      ]
     },
     "metadata": {},
     "execution_count": 17
    }
   ],
   "source": [
    "sumin.hello"
   ]
  },
  {
   "cell_type": "code",
   "execution_count": 22,
   "metadata": {},
   "outputs": [
    {
     "output_type": "stream",
     "name": "stdout",
     "text": [
      "반갑습니다\n"
     ]
    }
   ],
   "source": [
    "sumin.hello = \"반갑습니다\"\n",
    "sumin.greeting() # 아까와 값이 바뀜"
   ]
  },
  {
   "cell_type": "code",
   "execution_count": 23,
   "metadata": {},
   "outputs": [
    {
     "output_type": "stream",
     "name": "stdout",
     "text": [
      "안녕하세요?\n"
     ]
    }
   ],
   "source": [
    "maria = Person()\n",
    "maria.greeting()"
   ]
  },
  {
   "source": [],
   "cell_type": "markdown",
   "metadata": {}
  },
  {
   "source": [
    "* 인스턴스를 만들면서 속성값 전달 받기"
   ],
   "cell_type": "markdown",
   "metadata": {}
  },
  {
   "cell_type": "code",
   "execution_count": 24,
   "metadata": {},
   "outputs": [],
   "source": [
    "class Person3():\n",
    "    def __init__(self, name, age, address):\n",
    "        self.hello = \"안녕하세요?\"\n",
    "        self.name = name\n",
    "        self.age = age\n",
    "        self.address = address\n",
    "    def greeting(self):\n",
    "        print(f'{self.hello} 저는 {self.name}입니다.')"
   ]
  },
  {
   "cell_type": "code",
   "execution_count": 26,
   "metadata": {},
   "outputs": [
    {
     "output_type": "stream",
     "name": "stdout",
     "text": [
      "안녕하세요? 저는 maria입니다.\n"
     ]
    }
   ],
   "source": [
    "maria = Person3('maria', 36, \"서울시\")\n",
    "maria.greeting()"
   ]
  },
  {
   "source": [
    "* 디폴트 값 설정"
   ],
   "cell_type": "markdown",
   "metadata": {}
  },
  {
   "cell_type": "code",
   "execution_count": 29,
   "metadata": {},
   "outputs": [],
   "source": [
    "class Person4():\n",
    "    def __init__(self, name=\"마리아\", age=36, address=\"서울시\"):\n",
    "        self.hello = \"안녕하세요?\"\n",
    "        self.name = name\n",
    "        self.age = age\n",
    "        self.address = address\n",
    "    def greeting(self):\n",
    "        print(f'{self.hello} 저는 {self.name}입니다.')"
   ]
  },
  {
   "cell_type": "code",
   "execution_count": 30,
   "metadata": {},
   "outputs": [
    {
     "output_type": "stream",
     "name": "stdout",
     "text": [
      "안녕하세요? 저는 마리아입니다.\n"
     ]
    }
   ],
   "source": [
    "maria = Person4()\n",
    "maria.greeting()"
   ]
  },
  {
   "cell_type": "code",
   "execution_count": 31,
   "metadata": {},
   "outputs": [
    {
     "output_type": "stream",
     "name": "stdout",
     "text": [
      "안녕하세요? 저는 제임스입니다.\n"
     ]
    }
   ],
   "source": [
    "james = Person4(name = \"제임스\",age = 43)\n",
    "james.greeting()"
   ]
  },
  {
   "source": [
    "## 객체지향의 특징 \n",
    "### 상속성 Inheritance  \n",
    "- 부모가 가진 속성을 자식도 가질 수 있다.  \n",
    "### 캡슐화 Encapsulation\n",
    "### 다형성 Polymorphism Overriding"
   ],
   "cell_type": "markdown",
   "metadata": {}
  },
  {
   "source": [
    "### 3. 비공개 속성"
   ],
   "cell_type": "markdown",
   "metadata": {}
  },
  {
   "cell_type": "code",
   "execution_count": 42,
   "metadata": {},
   "outputs": [],
   "source": [
    "class Person5():\n",
    "    def __init__(self, name, age, address, wallet):\n",
    "        self.name = name\n",
    "        self.age = age\n",
    "        self.address = address\n",
    "        self.__wallet = wallet\n",
    "    def greeting(self):\n",
    "        print(f'{self.hello} 저는 {self.name}입니다.')"
   ]
  },
  {
   "cell_type": "code",
   "execution_count": 39,
   "metadata": {},
   "outputs": [
    {
     "output_type": "execute_result",
     "data": {
      "text/plain": [
       "'마리아'"
      ]
     },
     "metadata": {},
     "execution_count": 39
    }
   ],
   "source": [
    "maria = Person5(\"마리아\",24,\"서울시\", 10000)\n",
    "maria.name"
   ]
  },
  {
   "cell_type": "code",
   "execution_count": 41,
   "metadata": {},
   "outputs": [
    {
     "output_type": "execute_result",
     "data": {
      "text/plain": [
       "10000"
      ]
     },
     "metadata": {},
     "execution_count": 41
    }
   ],
   "source": [
    "maria.__wallet # 없다고 나온다. "
   ]
  },
  {
   "cell_type": "code",
   "execution_count": 50,
   "metadata": {},
   "outputs": [],
   "source": [
    "class Person5():\n",
    "    def __init__(self, name, age, address, wallet):\n",
    "        self.name = name        # 퍼블릭 속성\n",
    "        self.age = age\n",
    "        self.address = address\n",
    "        self.__wallet = wallet  # 프라이빗 속성\n",
    "\n",
    "    def set_wallet(self,amount):\n",
    "        self.__wallet = amount\n",
    "\n",
    "    def greeting(self):\n",
    "        print(f'{self.hello} 저는 {self.name}입니다.')\n",
    "\n",
    "    def get_wallet(self):\n",
    "        return self.__wallet\n",
    "\n",
    "    def pay(self,amount):\n",
    "        if amount > self.__wallet:\n",
    "            print(\"지갑에 돈이 부족해서 지불이 안됩니다.\")\n",
    "        else : \n",
    "            self.__wallet -= amount\n",
    "            print(f\"지불하고 남은 돈은 {self.__wallet}입니다.\")"
   ]
  },
  {
   "cell_type": "code",
   "execution_count": 51,
   "metadata": {},
   "outputs": [
    {
     "output_type": "stream",
     "name": "stdout",
     "text": [
      "지갑에 돈이 부족해서 지불이 안됩니다.\n"
     ]
    }
   ],
   "source": [
    "maria = Person5(\"마리아\",24,\"서울시\", 10000)\n",
    "maria.pay(15000)"
   ]
  },
  {
   "cell_type": "code",
   "execution_count": 54,
   "metadata": {},
   "outputs": [
    {
     "output_type": "stream",
     "name": "stdout",
     "text": [
      "지불하고 남은 돈은 85000입니다.\n"
     ]
    }
   ],
   "source": [
    "maria.set_wallet(100000)\n",
    "maria.pay(15000)"
   ]
  }
 ]
}