{
 "metadata": {
  "language_info": {
   "codemirror_mode": {
    "name": "ipython",
    "version": 3
   },
   "file_extension": ".py",
   "mimetype": "text/x-python",
   "name": "python",
   "nbconvert_exporter": "python",
   "pygments_lexer": "ipython3",
   "version": "3.8.5"
  },
  "orig_nbformat": 2,
  "kernelspec": {
   "name": "python385jvsc74a57bd08c1eae21719a0790335dcb83aad72b63b602cfe5cdb2bda0f60bc11d4f154e4b",
   "display_name": "Python 3.8.5 64-bit ('base': conda)"
  }
 },
 "nbformat": 4,
 "nbformat_minor": 2,
 "cells": [
  {
   "source": [
    "### 4.상속"
   ],
   "cell_type": "markdown",
   "metadata": {}
  },
  {
   "cell_type": "code",
   "execution_count": 3,
   "metadata": {},
   "outputs": [],
   "source": [
    "class Person:\n",
    "    def greeting(self):\n",
    "        print('안녕하세요?')\n",
    "\n",
    "\n",
    "class Student(Person) : # Person을 상속받겠다고 하는 것\n",
    "    def study(self):\n",
    "        print(\"공부하기\")"
   ]
  },
  {
   "source": [
    "* 상속을 받으면 부모 클래스의 매소드를 사용 가능하다"
   ],
   "cell_type": "markdown",
   "metadata": {}
  },
  {
   "cell_type": "code",
   "execution_count": 5,
   "metadata": {},
   "outputs": [
    {
     "output_type": "stream",
     "name": "stdout",
     "text": [
      "안녕하세요?\n공부하기\n"
     ]
    }
   ],
   "source": [
    "james = Student()\n",
    "james.greeting()\n",
    "james.study()"
   ]
  },
  {
   "source": [
    "* 부모 클래스의 속성값 사용하기"
   ],
   "cell_type": "markdown",
   "metadata": {}
  },
  {
   "cell_type": "code",
   "execution_count": 1,
   "metadata": {},
   "outputs": [],
   "source": [
    "class Person2:\n",
    "    def __init__(self):\n",
    "        print(\"Person2__init__method\")\n",
    "        self.hello = \"안녕하세요?\"\n",
    "\n",
    "\n",
    "\n",
    "class Student2(Person2):\n",
    "    def __init__(self):\n",
    "        print(\"Student2__init__method\")\n",
    "        self.school = \"python\""
   ]
  },
  {
   "cell_type": "code",
   "execution_count": 3,
   "metadata": {},
   "outputs": [
    {
     "output_type": "stream",
     "name": "stdout",
     "text": [
      "Student2__init__method\nStudent2__init__method\n"
     ]
    }
   ],
   "source": [
    "maria = Student2()\n",
    "\n",
    "maria.__init__()"
   ]
  },
  {
   "cell_type": "code",
   "execution_count": 11,
   "metadata": {},
   "outputs": [],
   "source": [
    "class Person3:\n",
    "    def __init__(self):\n",
    "        print(\"Person3__init__method\")\n",
    "        self.hello = \"안녕하세요?\"\n",
    "\n",
    "\n",
    "\n",
    "class Student3(Person2):\n",
    "    def __init__(self):\n",
    "        super().__init__()      # 상속 받은 것이 init매소드가 있으면 써줘야 함\n",
    "        print(\"Student2__init__method\")\n",
    "        self.school = \"python\""
   ]
  },
  {
   "cell_type": "code",
   "execution_count": 8,
   "metadata": {},
   "outputs": [
    {
     "output_type": "stream",
     "name": "stdout",
     "text": [
      "Person2__init__method\nStudent2__init__method\n"
     ]
    },
    {
     "output_type": "execute_result",
     "data": {
      "text/plain": [
       "'안녕하세요?'"
      ]
     },
     "metadata": {},
     "execution_count": 8
    }
   ],
   "source": [
    "james = Student3()\n",
    "james.hello"
   ]
  },
  {
   "source": [
    "class Student4(Person3):\n",
    "    def greeting(self):\n",
    "        print(\"안녕하세요.\")"
   ],
   "cell_type": "code",
   "metadata": {},
   "execution_count": 12,
   "outputs": []
  },
  {
   "cell_type": "code",
   "execution_count": 13,
   "metadata": {},
   "outputs": [
    {
     "output_type": "stream",
     "name": "stdout",
     "text": [
      "Person3__init__method\n안녕하세요.\n"
     ]
    }
   ],
   "source": [
    "jimy = Student4()\n",
    "jimy.greeting()"
   ]
  },
  {
   "source": [
    "### 5. Method Overriding"
   ],
   "cell_type": "markdown",
   "metadata": {}
  },
  {
   "cell_type": "code",
   "execution_count": 14,
   "metadata": {},
   "outputs": [],
   "source": [
    "class Person5 : \n",
    "    def greeting(self):\n",
    "        print(\"안녕하세요. 저는 인간입니다.\")\n",
    "\n",
    "class Student5(Person5):\n",
    "    def greeting(self):\n",
    "        print(\"안녕하세요? 저는 학생입니다. \")"
   ]
  },
  {
   "cell_type": "code",
   "execution_count": 15,
   "metadata": {},
   "outputs": [
    {
     "output_type": "stream",
     "name": "stdout",
     "text": [
      "안녕하세요? 저는 학생입니다. \n"
     ]
    }
   ],
   "source": [
    "sarah = Student5()\n",
    "sarah.greeting()"
   ]
  },
  {
   "cell_type": "code",
   "execution_count": 16,
   "metadata": {},
   "outputs": [],
   "source": [
    "class Student6(Person5):\n",
    "    def greeting(self):\n",
    "        super().greeting()\n",
    "        print(\"저는 학생입니다.\")"
   ]
  },
  {
   "cell_type": "code",
   "execution_count": 17,
   "metadata": {},
   "outputs": [
    {
     "output_type": "stream",
     "name": "stdout",
     "text": [
      "안녕하세요. 저는 인간입니다.\n저는 학생입니다.\n"
     ]
    }
   ],
   "source": [
    "vivian = Student6()\n",
    "vivian.greeting()"
   ]
  },
  {
   "cell_type": "code",
   "execution_count": null,
   "metadata": {},
   "outputs": [],
   "source": []
  }
 ]
}