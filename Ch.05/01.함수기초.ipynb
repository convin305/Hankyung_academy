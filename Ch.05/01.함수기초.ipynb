{
 "metadata": {
  "language_info": {
   "codemirror_mode": {
    "name": "ipython",
    "version": 3
   },
   "file_extension": ".py",
   "mimetype": "text/x-python",
   "name": "python",
   "nbconvert_exporter": "python",
   "pygments_lexer": "ipython3",
   "version": "3.8.5"
  },
  "orig_nbformat": 2,
  "kernelspec": {
   "name": "python385jvsc74a57bd08c1eae21719a0790335dcb83aad72b63b602cfe5cdb2bda0f60bc11d4f154e4b",
   "display_name": "Python 3.8.5 64-bit ('base': conda)"
  }
 },
 "nbformat": 4,
 "nbformat_minor": 2,
 "cells": [
  {
   "source": [
    "# Chap.5 함수\n",
    "\n",
    "### 1.함수 기초\n",
    "\n",
    "### 함수\n",
    ": 어떤 일을 수행하는 코드의 덩어리, 코드의 묶음 \n",
    "* 장점 - 필요할 떄 마다 호출 가능, 논리적인 단위로 분할 가능, 코드의 캡슐화  \n",
    "* 함수의 이름 규칙 - 소문자로 입력, 띄어쓰기를 할 경우 _를 사용, 외부에 공개해야 하는 경우 줄임말 말고 짧고 명료하게 만든다"
   ],
   "cell_type": "markdown",
   "metadata": {}
  },
  {
   "cell_type": "code",
   "execution_count": 17,
   "metadata": {},
   "outputs": [],
   "source": [
    "#사각형 넓이 계산하는 함수\n",
    "def calculate_rectangle_area(x,y):\n",
    "    return x*y"
   ]
  },
  {
   "cell_type": "code",
   "execution_count": 2,
   "metadata": {},
   "outputs": [
    {
     "output_type": "execute_result",
     "data": {
      "text/plain": [
       "80"
      ]
     },
     "metadata": {},
     "execution_count": 2
    }
   ],
   "source": [
    "calculate_rectangle_area(10,8)"
   ]
  },
  {
   "cell_type": "code",
   "execution_count": 7,
   "metadata": {},
   "outputs": [],
   "source": [
    "#원 넓이 구하는 함수\n",
    "import math\n",
    "def calculate_circle_area(radius):\n",
    "    return math.pi * radius * radius"
   ]
  },
  {
   "cell_type": "code",
   "execution_count": 11,
   "metadata": {},
   "outputs": [
    {
     "output_type": "stream",
     "name": "stdout",
     "text": [
      "반지름이 10인 원의 넓이는  314.16입니다.\n"
     ]
    }
   ],
   "source": [
    "r = 10\n",
    "area = calculate_circle_area(r)\n",
    "\n",
    "print(f'반지름이 {r}인 원의 넓이는 {area : .2f}입니다.')"
   ]
  },
  {
   "cell_type": "code",
   "execution_count": 1,
   "metadata": {},
   "outputs": [],
   "source": [
    "#뒤에서부터 나열하는 함수 생성\n",
    "def is_palindrome(number):\n",
    "    s = str(number)\n",
    "    return s == s[::-1]"
   ]
  },
  {
   "cell_type": "code",
   "execution_count": 14,
   "metadata": {},
   "outputs": [
    {
     "output_type": "execute_result",
     "data": {
      "text/plain": [
       "(True, False)"
      ]
     },
     "metadata": {},
     "execution_count": 14
    }
   ],
   "source": [
    "is_palindrome(12321), is_palindrome(12345)"
   ]
  },
  {
   "cell_type": "code",
   "execution_count": 16,
   "metadata": {},
   "outputs": [
    {
     "output_type": "execute_result",
     "data": {
      "text/plain": [
       "(True, False)"
      ]
     },
     "metadata": {},
     "execution_count": 16
    }
   ],
   "source": [
    "# is_palindrome은 문자도 가능하다\n",
    "\n",
    "is_palindrome('helloolleh'), is_palindrome('woss')"
   ]
  },
  {
   "source": [
    "### 2.함수 심화\n",
    "* scope Rule  \n",
    "\n",
    "밑의 경우에 동일하게 s변수를 사용했지만, 이 둘은 별개로 봐야 한다."
   ],
   "cell_type": "markdown",
   "metadata": {}
  },
  {
   "cell_type": "code",
   "execution_count": 18,
   "metadata": {},
   "outputs": [
    {
     "output_type": "stream",
     "name": "stdout",
     "text": [
      "I love London!\nI love PAris\n"
     ]
    }
   ],
   "source": [
    "def f():\n",
    "    s = \"I love London!\" #함수 안에 있는 변수는 지역변수\n",
    "    print(s)\n",
    "\n",
    "s = \"I love PAris\" #함수 밖에 있는 변수는 전역변수\n",
    "\n",
    "f()\n",
    "print(s)"
   ]
  },
  {
   "source": [
    "만약 함수 안의 s를 글로벌 변수로 다시 선언하면 결과가 달라진다"
   ],
   "cell_type": "markdown",
   "metadata": {}
  },
  {
   "cell_type": "code",
   "execution_count": 19,
   "metadata": {},
   "outputs": [
    {
     "output_type": "stream",
     "name": "stdout",
     "text": [
      "I love London!\nI love London!\n"
     ]
    }
   ],
   "source": [
    "def f():\n",
    "    global s\n",
    "    s = \"I love London!\"\n",
    "    print(s)\n",
    "\n",
    "s = \"I love PAris\"\n",
    "\n",
    "f()\n",
    "print(s)"
   ]
  },
  {
   "source": [
    "* 재귀 호출(Recursive call)  \n",
    "\n",
    "- 팩토리얼 : n! = n x (n-1) x ...x 1  \n",
    "  단, 0! = 1 "
   ],
   "cell_type": "markdown",
   "metadata": {}
  },
  {
   "cell_type": "code",
   "execution_count": 20,
   "metadata": {},
   "outputs": [],
   "source": [
    "def factorial(n):\n",
    "    if n == 0:\n",
    "        return 1\n",
    "    return n * factorial(n-1)"
   ]
  },
  {
   "cell_type": "code",
   "execution_count": 21,
   "metadata": {},
   "outputs": [
    {
     "output_type": "execute_result",
     "data": {
      "text/plain": [
       "120"
      ]
     },
     "metadata": {},
     "execution_count": 21
    }
   ],
   "source": [
    "factorial(5)"
   ]
  },
  {
   "source": [
    "* 피보나치 함수 만들어서 1항에서 10항까지 출력하기"
   ],
   "cell_type": "markdown",
   "metadata": {}
  },
  {
   "cell_type": "code",
   "execution_count": 23,
   "metadata": {},
   "outputs": [],
   "source": [
    "def fibo(n):\n",
    "    if n <= 2:\n",
    "        return 1\n",
    "    return fibo(n-1) + fibo(n-2)"
   ]
  },
  {
   "cell_type": "code",
   "execution_count": 33,
   "metadata": {},
   "outputs": [
    {
     "output_type": "stream",
     "name": "stdout",
     "text": [
      "1번째 피보나치 수열은 1 이다 \n2번째 피보나치 수열은 1 이다 \n3번째 피보나치 수열은 2 이다 \n4번째 피보나치 수열은 3 이다 \n5번째 피보나치 수열은 5 이다 \n6번째 피보나치 수열은 8 이다 \n7번째 피보나치 수열은 13 이다 \n8번째 피보나치 수열은 21 이다 \n9번째 피보나치 수열은 34 이다 \n10번째 피보나치 수열은 55 이다 \n"
     ]
    }
   ],
   "source": [
    "for i in range(1,11):\n",
    "    print(f\"{i}번째 피보나치 수열은 {fibo(i)} 이다 \")"
   ]
  },
  {
   "source": [
    "* 리턴 값이 여러개인 경우"
   ],
   "cell_type": "markdown",
   "metadata": {}
  },
  {
   "cell_type": "code",
   "execution_count": 34,
   "metadata": {},
   "outputs": [],
   "source": [
    "# 면적과 둘레를 반환하는 경우 \n",
    "\n",
    "def about_circle(radius):\n",
    "    return math.pi * radius **2, 2*math.pi*radius"
   ]
  },
  {
   "cell_type": "code",
   "execution_count": 41,
   "metadata": {},
   "outputs": [
    {
     "output_type": "stream",
     "name": "stdout",
     "text": [
      "반지름이 10인 원의 면적은  314.16고, 둘레는  62.83이다.\n"
     ]
    }
   ],
   "source": [
    "r = 10\n",
    "area, circumference = about_circle(r)\n",
    "\n",
    "print( f\"반지름이 {r}인 원의 면적은 {area : .2f}고, 둘레는 {circumference: .2f}이다.\")"
   ]
  },
  {
   "cell_type": "code",
   "execution_count": 42,
   "metadata": {},
   "outputs": [
    {
     "output_type": "stream",
     "name": "stdout",
     "text": [
      "31.41592653589793\n"
     ]
    }
   ],
   "source": [
    "# 리턴 밸류를 받고 쓰지 않을 때 _를 이용할 수 있다. \n",
    "\n",
    "_, circumference = about_circle(5)\n",
    "print(circumference)"
   ]
  }
 ]
}