{
 "metadata": {
  "language_info": {
   "codemirror_mode": {
    "name": "ipython",
    "version": 3
   },
   "file_extension": ".py",
   "mimetype": "text/x-python",
   "name": "python",
   "nbconvert_exporter": "python",
   "pygments_lexer": "ipython3",
   "version": "3.8.5"
  },
  "orig_nbformat": 2,
  "kernelspec": {
   "name": "python385jvsc74a57bd08c1eae21719a0790335dcb83aad72b63b602cfe5cdb2bda0f60bc11d4f154e4b",
   "display_name": "Python 3.8.5 64-bit ('base': conda)"
  }
 },
 "nbformat": 4,
 "nbformat_minor": 2,
 "cells": [
  {
   "source": [
    "### 3. 함수의 인수   \n",
    "\n",
    "인수\n",
    "* 키워드 인수 : keyword argument, 함수의 인터페이스에 지정된 변수명을 사용하여 함수의 인수를 지정하는 방법(매개변수의 변수명을 사용하여 지정)\n",
    "* 디폴트 인수 : default argument, 별도의 인수 값이 입력되지 않을 때\n",
    "* 위치 인수 : positional argument, \n",
    "* 가변 인수 : variable-length argument, \n",
    "* 키워드 가변 인수 : keyword variable-length argument,   \n",
    "\n",
    "________________________  \n",
    "* 키워드 인수\n"
   ],
   "cell_type": "markdown",
   "metadata": {}
  },
  {
   "cell_type": "code",
   "execution_count": 1,
   "metadata": {},
   "outputs": [],
   "source": [
    "def print_something(my_name,your_name):\n",
    "    print(f\"hello, {your_name}. My name is {my_name}.\")"
   ]
  },
  {
   "cell_type": "code",
   "execution_count": 2,
   "metadata": {},
   "outputs": [
    {
     "output_type": "stream",
     "name": "stdout",
     "text": [
      "hello, everyone. My name is Sumin.\nhello, Miss.Cha. My name is Sarah.\n"
     ]
    }
   ],
   "source": [
    "print_something('Sumin',\"everyone\")\n",
    "print_something(your_name=\"Miss.Cha\", my_name=\"Sarah\")"
   ]
  },
  {
   "source": [
    "* 디폴트 인수"
   ],
   "cell_type": "markdown",
   "metadata": {}
  },
  {
   "cell_type": "code",
   "execution_count": 4,
   "metadata": {},
   "outputs": [],
   "source": [
    "def print_something(my_name,your_name=\"Everyone\"):\n",
    "    print(f\"hello, {your_name}. My name is {my_name}.\")"
   ]
  },
  {
   "cell_type": "code",
   "execution_count": 5,
   "metadata": {},
   "outputs": [
    {
     "output_type": "stream",
     "name": "stdout",
     "text": [
      "hello, Everyone. My name is Sumin.\n"
     ]
    }
   ],
   "source": [
    "print_something('Sumin')"
   ]
  },
  {
   "source": [
    "* 가변 인수"
   ],
   "cell_type": "markdown",
   "metadata": {}
  },
  {
   "cell_type": "code",
   "execution_count": 11,
   "metadata": {},
   "outputs": [],
   "source": [
    "def summation(*args):\n",
    "    return sum(args)"
   ]
  },
  {
   "cell_type": "code",
   "execution_count": 12,
   "metadata": {},
   "outputs": [
    {
     "output_type": "stream",
     "name": "stdout",
     "text": [
      "3\n"
     ]
    }
   ],
   "source": [
    "print(summation(1,2))"
   ]
  },
  {
   "cell_type": "code",
   "execution_count": 13,
   "metadata": {},
   "outputs": [],
   "source": [
    "def summation2(a,b,*args): # a와 b는 꼭 와야하고 그 뒤부터는 안 올 수 도 있다. \n",
    "    return a+b+sum(args)"
   ]
  },
  {
   "cell_type": "code",
   "execution_count": 17,
   "metadata": {},
   "outputs": [
    {
     "output_type": "stream",
     "name": "stdout",
     "text": [
      "8\n"
     ]
    }
   ],
   "source": [
    "print(summation2(1,5,2))\n"
   ]
  },
  {
   "cell_type": "code",
   "execution_count": null,
   "metadata": {},
   "outputs": [],
   "source": [
    "#에러 \n",
    "# def summantion(*args,c) => 위치인수 먼저 쓰고 가변인수를 써야 한다. "
   ]
  },
  {
   "source": [
    "* 키워드 가변 인수"
   ],
   "cell_type": "markdown",
   "metadata": {}
  },
  {
   "cell_type": "code",
   "execution_count": 25,
   "metadata": {},
   "outputs": [],
   "source": [
    "def kwargs_test(**kwargs):\n",
    "    print(kwargs)"
   ]
  },
  {
   "cell_type": "code",
   "execution_count": 19,
   "metadata": {},
   "outputs": [
    {
     "output_type": "stream",
     "name": "stdout",
     "text": [
      "{'first': 1, 'second': 2, 'third': 3}\n"
     ]
    }
   ],
   "source": [
    "kwargs_test(first=1, second=2, third=3)"
   ]
  },
  {
   "cell_type": "code",
   "execution_count": 22,
   "metadata": {},
   "outputs": [
    {
     "output_type": "execute_result",
     "data": {
      "text/plain": [
       "1"
      ]
     },
     "metadata": {},
     "execution_count": 22
    }
   ],
   "source": [
    "my_dict = {'first': 1, 'second': 2, 'third': 3}\n",
    "_dict = {'first': 1, 'second': 2, 'third': 3}\n",
    "my_dict['first'] # my_dict.first는 지원하지 않음"
   ]
  },
  {
   "cell_type": "code",
   "execution_count": 28,
   "metadata": {},
   "outputs": [],
   "source": [
    "def kwargs_test2(**kwargs):\n",
    "    print(kwargs)\n",
    "    print(f\"First value is {kwargs['first']}\")\n",
    "    print(\"Third value is {third}\".format(**kwargs))"
   ]
  },
  {
   "cell_type": "code",
   "execution_count": 29,
   "metadata": {},
   "outputs": [
    {
     "output_type": "stream",
     "name": "stdout",
     "text": [
      "{'first': 1, 'second': 2, 'third': 3}\nFirst value is 1\nThird value is 3\n"
     ]
    }
   ],
   "source": [
    "kwargs_test2(first=1, second=2, third=3)"
   ]
  },
  {
   "cell_type": "code",
   "execution_count": null,
   "metadata": {},
   "outputs": [],
   "source": []
  },
  {
   "cell_type": "code",
   "execution_count": null,
   "metadata": {},
   "outputs": [],
   "source": []
  },
  {
   "cell_type": "code",
   "execution_count": null,
   "metadata": {},
   "outputs": [],
   "source": []
  }
 ]
}