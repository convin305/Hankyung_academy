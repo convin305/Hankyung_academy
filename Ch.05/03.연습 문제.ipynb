{
 "metadata": {
  "language_info": {
   "codemirror_mode": {
    "name": "ipython",
    "version": 3
   },
   "file_extension": ".py",
   "mimetype": "text/x-python",
   "name": "python",
   "nbconvert_exporter": "python",
   "pygments_lexer": "ipython3",
   "version": 3
  },
  "orig_nbformat": 2
 },
 "nbformat": 4,
 "nbformat_minor": 2,
 "cells": [
  {
   "source": [
    "### 1. palindrome 함수 만들기\n",
    "앞에서부터 읽으나 뒤에서부터 읽으나 동일한 단어나 구 : palindrome  \n",
    "세자리 수를 곱해서 만들 수 있는 가장 큰 대칭수를 찾아라.\n"
   ],
   "cell_type": "markdown",
   "metadata": {}
  },
  {
   "cell_type": "code",
   "execution_count": null,
   "metadata": {},
   "outputs": [],
   "source": [
    "# 세자리 수의 범위 : 100 ~ 999\n",
    "def is_palindrome(number):\n",
    "    s = str(number)\n",
    "    return s == s[::-1]"
   ]
  },
  {
   "cell_type": "code",
   "execution_count": null,
   "metadata": {},
   "outputs": [],
   "source": [
    "pal_list=[]\n",
    "\n",
    "for i in range(100,1000):\n",
    "    for k in range(100,1000):\n",
    "        number = i * k\n",
    "        if is_palindrome(number) == True:\n",
    "            pal_list.append(number)\n",
    "\n",
    "max(pal_list)"
   ]
  },
  {
   "source": [
    "### 2. 코딩도장 29.4 심사문제  \n",
    "\n",
    "표준 입력으로 숫자 두 개가 입력됩니다.  \n",
    "두 숫자의 덧셈, 뺄셈, 곱셈, 나눗셈의 결과가 출력되게 만드세요. 이때 나눗셈의 결과는 실수라야 합니다."
   ],
   "cell_type": "markdown",
   "metadata": {}
  },
  {
   "cell_type": "code",
   "execution_count": null,
   "metadata": {},
   "outputs": [],
   "source": [
    "x, y = map(int, input().split())\n",
    "\n",
    "def calc(x,y):\n",
    "    return (x + y,x - y,x * y,float(x / y))\n",
    "\n",
    "a, s, m, d, = calc(x,y)\n",
    "print('덧셈: {0}, 뺄셈: {1}, 곱셈: {2}, 나눗셈: {3}'.format(a, s, m, d))"
   ]
  },
  {
   "source": [
    "### 3. 코딩도장 30.7 심사문제 \n",
    "\n",
    "국어, 영어, 수학, 과학 점수가 입력됩니다.  \n",
    "다음 소스 코드를 완성하여 가장 높은 점수, 가장 낮은 점수, 평균 점수가 출력되게 만드세요.  \n",
    "평균 점수는 실수로 출력되어야 합니다."
   ],
   "cell_type": "markdown",
   "metadata": {}
  },
  {
   "cell_type": "code",
   "execution_count": null,
   "metadata": {},
   "outputs": [],
   "source": [
    "korean, english, mathematics, science = map(int, input().split())\n",
    "\n",
    "def get_min_max_score(*args):\n",
    "    return min(args), max(args)\n",
    "\n",
    "def get_average(**kwargs):\n",
    "    return sum(kwargs.values()) / len(kwargs)\n",
    "\n",
    "\n",
    "min_score, max_score = get_min_max_score(korean, english, mathematics, science)\n",
    "\n",
    "average_score = get_average(korean=korean, english=english,\n",
    "                            mathematics=mathematics, science=science)\n",
    "\n",
    "print('낮은 점수: {0:.2f}, 높은 점수: {1:.2f}, 평균 점수: {2:.2f}'\n",
    "      .format(min_score, max_score, average_score))\n",
    " \n",
    "min_score, max_score = get_min_max_score(english, science)\n",
    "average_score = get_average(english=english, science=science)\n",
    "print('낮은 점수: {0:.2f}, 높은 점수: {1:.2f}, 평균 점수: {2:.2f}'\n",
    "      .format(min_score, max_score, average_score))"
   ]
  }
 ]
}