{
 "metadata": {
  "language_info": {
   "codemirror_mode": {
    "name": "ipython",
    "version": 3
   },
   "file_extension": ".py",
   "mimetype": "text/x-python",
   "name": "python",
   "nbconvert_exporter": "python",
   "pygments_lexer": "ipython3",
   "version": "3.8.5"
  },
  "orig_nbformat": 2,
  "kernelspec": {
   "name": "python385jvsc74a57bd08c1eae21719a0790335dcb83aad72b63b602cfe5cdb2bda0f60bc11d4f154e4b",
   "display_name": "Python 3.8.5 64-bit ('base': conda)"
  }
 },
 "nbformat": 4,
 "nbformat_minor": 2,
 "cells": [
  {
   "source": [
    "# Chap.4 조건문과 반복문\n",
    "\n",
    "### 01.조건문 - if / else"
   ],
   "cell_type": "markdown",
   "metadata": {}
  },
  {
   "cell_type": "code",
   "execution_count": 2,
   "metadata": {},
   "outputs": [
    {
     "output_type": "stream",
     "name": "stdout",
     "text": [
      "Welcome to the Club\n"
     ]
    }
   ],
   "source": [
    "age = int(input(\"Tell me your age : \"))\n",
    "\n",
    "if age < 30 :\n",
    "    print(\"Welcome to the Club!\")\n",
    "else : \n",
    "    print(\"Sorry. You're not accepted\")"
   ]
  },
  {
   "cell_type": "code",
   "execution_count": 3,
   "metadata": {},
   "outputs": [
    {
     "output_type": "stream",
     "name": "stdout",
     "text": [
      "Sorry. You're not accepted\n"
     ]
    }
   ],
   "source": [
    "age = int(input(\"Tell me your age : \"))\n",
    "\n",
    "if age > 15 and age < 30 : #15세 미만 추가 15 < age < 30 가능\n",
    "    print(\"Welcome to the Club!\")\n",
    "else : \n",
    "    print(\"Sorry. You're not accepted\")"
   ]
  },
  {
   "cell_type": "code",
   "execution_count": 4,
   "metadata": {},
   "outputs": [
    {
     "output_type": "stream",
     "name": "stdout",
     "text": [
      "***\n"
     ]
    }
   ],
   "source": [
    "# 조건문 뒤 문장(실행문)이 단문인 경우 인덴테이션 무시하는 것도 가능.\n",
    "age = int(input(\"Tell me your age : \"))\n",
    "\n",
    "if age > 15 and age < 30 : print(\"Welcome to the Club!\")\n",
    "else : print(\"Sorry. You're not accepted\")"
   ]
  },
  {
   "source": [
    "### 3항 연산자"
   ],
   "cell_type": "markdown",
   "metadata": {}
  },
  {
   "cell_type": "code",
   "execution_count": 5,
   "metadata": {},
   "outputs": [
    {
     "output_type": "stream",
     "name": "stdout",
     "text": [
      "You are not accepted.\n"
     ]
    }
   ],
   "source": [
    "age = int(input(\"Tell me your age : \"))\n",
    "msg = 'Welcome to the Club' if 15 < age < 30 else \"You are not accepted.\"\n",
    "print(msg)"
   ]
  },
  {
   "source": [
    "### 조건의 판단"
   ],
   "cell_type": "markdown",
   "metadata": {}
  },
  {
   "cell_type": "code",
   "execution_count": 6,
   "metadata": {},
   "outputs": [
    {
     "output_type": "execute_result",
     "data": {
      "text/plain": [
       "True"
      ]
     },
     "metadata": {},
     "execution_count": 6
    }
   ],
   "source": [
    "#앞의 조건식이 True면 뒤는 보지도 않음.(앞이 True라서 True나온다)\n",
    "3 == 3 or 99998 "
   ]
  },
  {
   "cell_type": "code",
   "execution_count": 7,
   "metadata": {},
   "outputs": [
    {
     "output_type": "execute_result",
     "data": {
      "text/plain": [
       "99998"
      ]
     },
     "metadata": {},
     "execution_count": 7
    }
   ],
   "source": [
    "#앞이 False면 이 연산의 값은 or 이후의 값이 된다.\n",
    "3 == 4 or 99998"
   ]
  },
  {
   "source": [
    "### if / elif / else"
   ],
   "cell_type": "markdown",
   "metadata": {}
  },
  {
   "cell_type": "code",
   "execution_count": 8,
   "metadata": {},
   "outputs": [
    {
     "output_type": "stream",
     "name": "stdout",
     "text": [
      "D\n"
     ]
    }
   ],
   "source": [
    "#조건문 포함 범위가 갈수록 커지는 방향으로 if문을 작성하면 틀린 결과가 나오게 된다.\n",
    "# 해결책 1) 범위가 좁아지도록 반대로 작성할경우(60이하부터 분류) 해결 가능하다. \n",
    "score = 98\n",
    "\n",
    "if score >= 90 :\n",
    "    grade = \"A\"\n",
    "if score >= 80 :\n",
    "    grade = \"B\"\n",
    "if score >= 70 :\n",
    "    grade = \"C\"\n",
    "if score >= 60 :\n",
    "    grade = \"D\"\n",
    "if score < 60 :\n",
    "    grade = \"F\"\n",
    "\n",
    "print(grade)"
   ]
  },
  {
   "cell_type": "code",
   "execution_count": 9,
   "metadata": {},
   "outputs": [
    {
     "output_type": "stream",
     "name": "stdout",
     "text": [
      "A\n"
     ]
    }
   ],
   "source": [
    "#해결책 2) if - elif - else\r\n",
    "score = 98\r\n",
    "\r\n",
    "if score >= 90 :\r\n",
    "    grade = \"A\"\r\n",
    "elif score >= 80 :\r\n",
    "    grade = \"B\"\r\n",
    "elif score >= 70 :\r\n",
    "    grade = \"C\"\r\n",
    "elif score >= 60 :\r\n",
    "    grade = \"D\"\r\n",
    "else : \r\n",
    "    grade = \"F\"\r\n",
    "\r\n",
    "print(grade)\r\n"
   ]
  },
  {
   "cell_type": "code",
   "execution_count": null,
   "metadata": {},
   "outputs": [],
   "source": [
    "# 해결책 3) 3항 연산자 -> 3항 연산자를 계속해서 이어서 만든다.\n",
    "score = 78\n",
    "grade = \"A\" if score >= 90 else \\\n",
    "            \"B\" if score >= 80 else \\\n",
    "                \"C\" if score >= 70 else \\\n",
    "                    \"D\" if score >= 60 else \"F\""
   ]
  },
  {
   "source": [
    "### 02. 어떤 종류의 학생인지 맞히기 (if 응용)"
   ],
   "cell_type": "markdown",
   "metadata": {}
  },
  {
   "cell_type": "code",
   "execution_count": 11,
   "metadata": {},
   "outputs": [
    {
     "output_type": "execute_result",
     "data": {
      "text/plain": [
       "datetime.date(2021, 5, 24)"
      ]
     },
     "metadata": {},
     "execution_count": 11
    }
   ],
   "source": [
    "from datetime import date # datetime 임포트\n",
    "date.today()"
   ]
  },
  {
   "cell_type": "code",
   "execution_count": 12,
   "metadata": {},
   "outputs": [
    {
     "output_type": "execute_result",
     "data": {
      "text/plain": [
       "(2021, 5, 24)"
      ]
     },
     "metadata": {},
     "execution_count": 12
    }
   ],
   "source": [
    "today = date.today()\n",
    "today.year, today.month, today.day"
   ]
  },
  {
   "cell_type": "code",
   "execution_count": 16,
   "metadata": {},
   "outputs": [
    {
     "output_type": "stream",
     "name": "stdout",
     "text": [
      "대학생\n"
     ]
    }
   ],
   "source": [
    "birth_year = int(input(\"태어난 연도 입력 : \"))\n",
    "age = today.year - birth_year + 1\n",
    "\n",
    "if 20 <= age <= 26:\n",
    "    print(\"대학생\")\n",
    "elif 17 <= age < 20 : \n",
    "    print(\"고등학생\")\n",
    "elif 14 <= age < 17:\n",
    "    print(\"중학생\")\n",
    "elif 8 <= age < 14:\n",
    "    print(\"초등학생\")\n",
    "else :\n",
    "    print(\"학생이 아님\")"
   ]
  },
  {
   "source": [
    "FizzBuzz (1-100)  \n",
    "- 3의 배수 : Fizz\n",
    "- 5의 배수 : Buzz\n",
    "- 15의 배수 : FizzBuzz\n",
    "- 아니면 숫자 "
   ],
   "cell_type": "markdown",
   "metadata": {}
  },
  {
   "cell_type": "code",
   "execution_count": 22,
   "metadata": {},
   "outputs": [
    {
     "output_type": "stream",
     "name": "stdout",
     "text": [
      "1\n2\nFizz\n4\nBuzz\nFizz\n7\n8\nFizz\nBuzz\n11\nFizz\n13\n14\nFizzBuzz\n16\n17\nFizz\n19\nBuzz\nFizz\n22\n23\nFizz\nBuzz\n26\nFizz\n28\n29\nFizzBuzz\n31\n32\nFizz\n34\nBuzz\nFizz\n37\n38\nFizz\nBuzz\n41\nFizz\n43\n44\nFizzBuzz\n46\n47\nFizz\n49\nBuzz\nFizz\n52\n53\nFizz\nBuzz\n56\nFizz\n58\n59\nFizzBuzz\n61\n62\nFizz\n64\nBuzz\nFizz\n67\n68\nFizz\nBuzz\n71\nFizz\n73\n74\nFizzBuzz\n76\n77\nFizz\n79\nBuzz\nFizz\n82\n83\nFizz\nBuzz\n86\nFizz\n88\n89\nFizzBuzz\n91\n92\nFizz\n94\nBuzz\nFizz\n97\n98\nFizz\nBuzz\n"
     ]
    }
   ],
   "source": [
    "for i in range(1,101):\n",
    "    if i % 15 == 0:\n",
    "        print(\"FizzBuzz\")\n",
    "    elif i % 3 == 0:\n",
    "        print(\"Fizz\")\n",
    "    elif i % 5 == 0:\n",
    "        print(\"Buzz\")\n",
    "    else : \n",
    "        print(i)"
   ]
  },
  {
   "cell_type": "code",
   "execution_count": 24,
   "metadata": {},
   "outputs": [
    {
     "output_type": "stream",
     "name": "stdout",
     "text": [
      "1\n2\nFizz\n4\nBuzz\nFizz\n7\n8\nFizz\nBuzz\n11\nFizz\n13\n14\nFizzBuzz\n16\n17\nFizz\n19\nBuzz\nFizz\n22\n23\nFizz\nBuzz\n26\nFizz\n28\n29\nFizzBuzz\n31\n32\nFizz\n34\nBuzz\nFizz\n37\n38\nFizz\nBuzz\n41\nFizz\n43\n44\nFizzBuzz\n46\n47\nFizz\n49\nBuzz\nFizz\n52\n53\nFizz\nBuzz\n56\nFizz\n58\n59\nFizzBuzz\n61\n62\nFizz\n64\nBuzz\nFizz\n67\n68\nFizz\nBuzz\n71\nFizz\n73\n74\nFizzBuzz\n76\n77\nFizz\n79\nBuzz\nFizz\n82\n83\nFizz\nBuzz\n86\nFizz\n88\n89\nFizzBuzz\n91\n92\nFizz\n94\nBuzz\nFizz\n97\n98\nFizz\nBuzz\n"
     ]
    }
   ],
   "source": [
    "# 위의 FizzBuzz를 한줄로 만들기\n",
    "for i in range(1,101):\n",
    "    print(\"Fizz\"*(i % 3 == 0) + \"Buzz\" * (i % 5 == 0) or i) "
   ]
  }
 ]
}