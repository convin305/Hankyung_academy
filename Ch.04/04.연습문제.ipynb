{
 "metadata": {
  "language_info": {
   "codemirror_mode": {
    "name": "ipython",
    "version": 3
   },
   "file_extension": ".py",
   "mimetype": "text/x-python",
   "name": "python",
   "nbconvert_exporter": "python",
   "pygments_lexer": "ipython3",
   "version": "3.8.5"
  },
  "orig_nbformat": 2,
  "kernelspec": {
   "name": "python385jvsc74a57bd08c1eae21719a0790335dcb83aad72b63b602cfe5cdb2bda0f60bc11d4f154e4b",
   "display_name": "Python 3.8.5 64-bit ('base': conda)"
  }
 },
 "nbformat": 4,
 "nbformat_minor": 2,
 "cells": [
  {
   "source": [
    "# 1. 조건문\n",
    "\n",
    "### 1. 연도를 입력으로 받아 윤년인지 아닌지를 출력하는 프로그램 작성\n",
    "\n",
    "윤년은 연도가 4의 배수이면서, 100의 배수가 아닐 때 또는 400의 배수일 때이다.  \n",
    "예를 들어, 2012년은 4의 배수라서 윤년이지만, 1900년은 4의 배수이지만 동시에 100의 배수이기 때문에 윤년이 아니다.  \n",
    "하지만 2000년은 400의 배수이기 때문에 윤년이다."
   ],
   "cell_type": "markdown",
   "metadata": {}
  },
  {
   "cell_type": "code",
   "execution_count": 1,
   "metadata": {},
   "outputs": [
    {
     "output_type": "stream",
     "name": "stdout",
     "text": [
      "2012년은 윤년입니다.\n"
     ]
    }
   ],
   "source": [
    "year = int(input(\"연도를 입력하세요 : \"))\n",
    "\n",
    "if year % 4 == 0 :\n",
    "    if year % 400 == 0 or year % 100 != 0:\n",
    "        print(f'{year}년은 윤년입니다.')\n",
    "    else : \n",
    "        print(f'{year}년은 윤년이 아닙니다.')\n",
    "else : \n",
    "    print(f'{year}년은 윤년이 아닙니다.')"
   ]
  },
  {
   "source": [
    "___________________________________________________________________________  \n",
    "### 2. 만 나이 구하기\n",
    "\n",
    "본인의 생일을 1998 12 15와 같이 년, 월 일로 입력받아 오늘 날짜의 만 나이를 구하는 프로그램을 작성하시오.  \n",
    "map 함수 이용"
   ],
   "cell_type": "markdown",
   "metadata": {}
  },
  {
   "cell_type": "code",
   "execution_count": 2,
   "metadata": {},
   "outputs": [
    {
     "output_type": "stream",
     "name": "stdout",
     "text": [
      "당신의 만 나이는 25세 입니다.\n"
     ]
    }
   ],
   "source": [
    "from datetime import date\n",
    "\n",
    "birth_day = list(map(int,input(\"생년 월 일을 띄어쓰기로 구분하여 입력하시오.\").split()))\n",
    "today = date.today()\n",
    "if birth_day[1] == today.month:\n",
    "    if birth_day[2] <= today.day:\n",
    "        age = today.year - birth_day[0]\n",
    "    else :\n",
    "        age = today.year - birth_day[0]-1\n",
    "else : \n",
    "    age = age = today.year - birth_day[0]\n",
    "print(f'당신의 만 나이는 {age}세 입니다.')"
   ]
  },
  {
   "source": [
    "___________________________________________________________________________  \n",
    "### 3. 피타고라스 수 구하기  \n",
    "세 자연수 a, b, c 가 피타고라스 정리 a^2 + b^2 = c^2 를 만족하면 피타고라스 수라고 부른다.  \n",
    "(여기서 a < b < c 이고 a + b > c)  \n",
    "예를 들면, 3^2 + 4^2 = 9 + 16 = 25 = 52 이므로 3, 4, 5는 피타고라스 수입니다.  \n",
    "a + b + c = 1000 인 피타고라스 수를 구하시오. (답은 한가지 뿐이다.)\n"
   ],
   "cell_type": "markdown",
   "metadata": {}
  },
  {
   "cell_type": "code",
   "execution_count": 3,
   "metadata": {},
   "outputs": [
    {
     "output_type": "stream",
     "name": "stdout",
     "text": [
      "a = 200, b = 375, c = 425\n"
     ]
    }
   ],
   "source": [
    "for a in range(1,1001):\n",
    "    for b in range(1,1001):\n",
    "        c = 1000 - a - b\n",
    "        if b > a and c > a and c > b and a**2 + b**2 == c**2 :\n",
    "            print(f\"a = {a}, b = {b}, c = {c}\")\n"
   ]
  },
  {
   "source": [
    "___________________________________________________________________________  \n",
    "# 2. 반복문\n",
    "\n",
    "### 1. 별 그리기\n",
    "\n",
    "5이상 9이하의 홀수를 입력받아 다이아몬드 형태의 별을 출력하는 프로그램을 작성하시오.\n"
   ],
   "cell_type": "markdown",
   "metadata": {}
  },
  {
   "cell_type": "code",
   "execution_count": 4,
   "metadata": {},
   "outputs": [
    {
     "output_type": "stream",
     "name": "stdout",
     "text": [
      "   *\n  ***\n *****\n*******\n *****\n  ***\n   *\n"
     ]
    }
   ],
   "source": [
    "num = int(input(\"5에서 9 이하의 홀수를 입력하세요\"))\n",
    "\n",
    "if num < 5 or num > 9 or num % 2 == 0:\n",
    "    print(\"정해진 범위의 숫자를 입력하세요\")\n",
    "else :\n",
    "    half = num//2+1\n",
    "    for i in range(1,num+1):\n",
    "        if i <= half :\n",
    "            print(\" \"*(half-i),end='')\n",
    "            print(\"*\"*(i*2-1))\n",
    "        else :\n",
    "            print(\" \"*(i-half),end='')\n",
    "            print(\"*\"*((num+1-i)*2-1))"
   ]
  },
  {
   "source": [
    "___________________________________________________________________________  \n",
    "### 2. 시-분 환산하기\n",
    "\n",
    "디지털 시계에 하루동안(00:00~23:59) 3이 표시되는 시간을 초로 환산하면 총 몇 초(second) 일까요?"
   ],
   "cell_type": "markdown",
   "metadata": {}
  },
  {
   "cell_type": "code",
   "execution_count": 5,
   "metadata": {},
   "outputs": [
    {
     "output_type": "stream",
     "name": "stdout",
     "text": [
      "29700\n"
     ]
    }
   ],
   "source": [
    "second = 0\n",
    "\n",
    "for hour in range(24):\n",
    "    for minute in range(60):\n",
    "        time = str(hour)+str(minute)\n",
    "        for i in time:\n",
    "            if i == \"3\":\n",
    "                second +=1\n",
    "                break\n",
    "\n",
    "print(second*60)\n",
    "        "
   ]
  },
  {
   "source": [
    "___________________________________________________________________________  \n",
    "### 3. 숫자의 개수 구하기\n",
    "1 ~1000에서 각 숫자의 개수를 구하시오"
   ],
   "cell_type": "markdown",
   "metadata": {}
  },
  {
   "cell_type": "code",
   "execution_count": 6,
   "metadata": {},
   "outputs": [
    {
     "output_type": "stream",
     "name": "stdout",
     "text": [
      "1000까지의 숫자 중에 0은(는) 192개 있습니다.\n1000까지의 숫자 중에 1은(는) 301개 있습니다.\n1000까지의 숫자 중에 2은(는) 300개 있습니다.\n1000까지의 숫자 중에 3은(는) 300개 있습니다.\n1000까지의 숫자 중에 4은(는) 300개 있습니다.\n1000까지의 숫자 중에 5은(는) 300개 있습니다.\n1000까지의 숫자 중에 6은(는) 300개 있습니다.\n1000까지의 숫자 중에 7은(는) 300개 있습니다.\n1000까지의 숫자 중에 8은(는) 300개 있습니다.\n1000까지의 숫자 중에 9은(는) 300개 있습니다.\n"
     ]
    }
   ],
   "source": [
    "# 0-9까지. 각 몇개의 숫자가 있는지 0-9까지. 각 몇개의 숫자가 있는지\n",
    "num = 1000\n",
    "total = \"\"\n",
    "\n",
    "for i in range(1,num+1):\n",
    "    total += str(i)\n",
    "for k in range(10):\n",
    "    print(f'{num}까지의 숫자 중에 {k}은(는) {total.count(str(k))}개 있습니다.')\n"
   ]
  },
  {
   "source": [
    "___________________________________________________________________________  \n",
    "### 4. 완전수 찾기\n",
    "\n",
    "자기 자신을 제외한 모든 양의 약수들의 합이 자기 자신이 되는 자연수를 완전수라고 한다.  \n",
    "입력으로 자연수 N을 받고, 출력으로 N 이하의 모든 완전수를 출력하는 코드를 작성하시오.  \n",
    "N = 10000 => 만 이하의 완전수는 4개. 찾아보기  \n",
    "* 약수 : 나누어 떨어지는 어떤 수  \n",
    "    예 ) 6의 약수는 1,2,3,6이며 자기자신을 제외한 1,2,3의 합은 6이 된다.  "
   ],
   "cell_type": "markdown",
   "metadata": {}
  },
  {
   "cell_type": "code",
   "execution_count": 7,
   "metadata": {
    "tags": []
   },
   "outputs": [
    {
     "output_type": "stream",
     "name": "stdout",
     "text": [
      "6는 약수\n",
      "28는 약수\n",
      "496는 약수\n",
      "8128는 약수\n"
     ]
    }
   ],
   "source": [
    "num = 10000\n",
    "\n",
    "for i in range(1,num+1):\n",
    "    divisor = 0\n",
    "    for k in range(1,i):\n",
    "        if i % k == 0:\n",
    "            divisor += k\n",
    "    if divisor == i:\n",
    "        print(f\"{i}는 약수\")"
   ]
  },
  {
   "source": [
    "___________________________________________________________________________  \n",
    "### 5. 제곱의 합과 합의 제곱의 차이\n",
    "\n",
    "1부터 10까지 자연수에 대해 \"합의 제곱\"과 \"제곱의 합\"의 차이는 3025 - 385 = 2640 이 된다.  \n",
    "입력으로 자연수 N을 받아, 1부터 N까지 자연수에 대해 \"합의 제곱\"과 \"제곱의 합\"의 차이는 얼마인가?"
   ],
   "cell_type": "markdown",
   "metadata": {}
  },
  {
   "cell_type": "code",
   "execution_count": 8,
   "metadata": {},
   "outputs": [
    {
     "output_type": "stream",
     "name": "stdout",
     "text": [
      "합의 제곱은 3025, 제곱의 합은385 이며, 그 차이는 2640이다.\n"
     ]
    }
   ],
   "source": [
    "num = int(input(\"자연수를 입력하세요\"))\n",
    "\n",
    "#합의 제곱 구하기\n",
    "sum = 0\n",
    "for i in range(num+1):\n",
    "    sum += i\n",
    "square_of_sum = sum ** 2\n",
    "\n",
    "#제곱의 합 구하기\n",
    "sum_of_square = 0\n",
    "for i in range(num+1):\n",
    "    sum_of_square += i**2\n",
    "\n",
    "#차이를 구하기 \n",
    "print(f'합의 제곱은 {square_of_sum}, 제곱의 합은{sum_of_square} 이며, 그 차이는 {square_of_sum - sum_of_square}이다.')"
   ]
  }
 ]
}