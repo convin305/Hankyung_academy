{
 "metadata": {
  "language_info": {
   "codemirror_mode": {
    "name": "ipython",
    "version": 3
   },
   "file_extension": ".py",
   "mimetype": "text/x-python",
   "name": "python",
   "nbconvert_exporter": "python",
   "pygments_lexer": "ipython3",
   "version": "3.8.5"
  },
  "orig_nbformat": 2,
  "kernelspec": {
   "name": "python385jvsc74a57bd08c1eae21719a0790335dcb83aad72b63b602cfe5cdb2bda0f60bc11d4f154e4b",
   "display_name": "Python 3.8.5 64-bit ('base': conda)"
  }
 },
 "nbformat": 4,
 "nbformat_minor": 2,
 "cells": [
  {
   "source": [
    "### 03. 반복문\n",
    "\n",
    "* for 문 - 정해진 횟수를 알고 있을 때   \n",
    "    * for 변수 in 시퀀스 : 형식으로 사용\n",
    "* while 문 - 정해진 횟수를 알고 있지 않을 때  \n",
    "\n",
    "1) for문"
   ],
   "cell_type": "markdown",
   "metadata": {}
  },
  {
   "cell_type": "code",
   "execution_count": 5,
   "metadata": {},
   "outputs": [
    {
     "output_type": "stream",
     "name": "stdout",
     "text": [
      "Hello World\nHello World\nHello World\nHello World\nHello World\n"
     ]
    }
   ],
   "source": [
    "for i in range(5):\n",
    "    print(\"Hello World\")"
   ]
  },
  {
   "cell_type": "code",
   "execution_count": 2,
   "metadata": {},
   "outputs": [
    {
     "output_type": "stream",
     "name": "stdout",
     "text": [
      "0\n1\n2\n3\n4\n"
     ]
    }
   ],
   "source": [
    "for i in range(5):\n",
    "    print(i)"
   ]
  },
  {
   "cell_type": "code",
   "execution_count": 3,
   "metadata": {},
   "outputs": [
    {
     "output_type": "stream",
     "name": "stdout",
     "text": [
      "1\n2\n3\n4\n5\n"
     ]
    }
   ],
   "source": [
    "# range(시작, 끝 -1, 증가분)\n",
    "# 1에서 5까지 찍기\n",
    "for i in range(1,6):\n",
    "    print(i)"
   ]
  },
  {
   "cell_type": "code",
   "execution_count": 4,
   "metadata": {},
   "outputs": [
    {
     "output_type": "stream",
     "name": "stdout",
     "text": [
      "1\n3\n5\n7\n9\n"
     ]
    }
   ],
   "source": [
    "# 리스트\n",
    "for i in [1,3,5,7,9]:\n",
    "    print(i)"
   ]
  },
  {
   "cell_type": "code",
   "execution_count": 7,
   "metadata": {},
   "outputs": [
    {
     "output_type": "stream",
     "name": "stdout",
     "text": [
      "H\ne\nl\nl\no\n"
     ]
    }
   ],
   "source": [
    "# 문자열\n",
    "for char in \"Hello\" : \n",
    "    print(char)"
   ]
  },
  {
   "cell_type": "code",
   "execution_count": 9,
   "metadata": {},
   "outputs": [
    {
     "output_type": "stream",
     "name": "stdout",
     "text": [
      "I\nlove\nyou\n"
     ]
    }
   ],
   "source": [
    "# 리스트 결과가 나오는 구문(단어 단위) -> 쓸데없이 변수,함수 만들지 말기\n",
    "for i in \"I love you\".split():\n",
    "    print(i)"
   ]
  },
  {
   "source": [
    "2) While 문  \n",
    " - while문 다음의 조건이 참일 동안 수행한다. \n",
    " - 지켜야 할 것 :  \n",
    " 조건이 변화되도록 해야함.  \n",
    " loop를 탈출할 수 있는 조건이 있어야 함 => 그렇지 않으면 무한 루프에 빠지게 된다."
   ],
   "cell_type": "markdown",
   "metadata": {}
  },
  {
   "cell_type": "code",
   "execution_count": 10,
   "metadata": {},
   "outputs": [
    {
     "output_type": "stream",
     "name": "stdout",
     "text": [
      "1\n2\n3\n4\n5\n"
     ]
    }
   ],
   "source": [
    "# for i in range(1,6):\n",
    "#     print(i)\n",
    "\n",
    "i = 1\n",
    "while i < 6 :\n",
    "    print(i)\n",
    "    i += 1 # i값이 변화를 해야 탈출할 수 있다."
   ]
  },
  {
   "source": [
    "* break : 반복문에서 논리적으로 반복을 종료하는 방법.  \n",
    "\n",
    "Q. 사용자가 숫자를 입력. 숫자가 나오면 계속 더하고, 0이 나오먄 합계를 출력하는 프로그램"
   ],
   "cell_type": "markdown",
   "metadata": {}
  },
  {
   "cell_type": "code",
   "execution_count": 12,
   "metadata": {},
   "outputs": [
    {
     "output_type": "stream",
     "name": "stdout",
     "text": [
      "52\n"
     ]
    }
   ],
   "source": [
    "sum = 0\n",
    "\n",
    "while True:\n",
    "    num = int(input(\"정수를 입력하시오 : \"))\n",
    "    if num == 0:\n",
    "        break\n",
    "    sum += num\n",
    "print(sum)"
   ]
  },
  {
   "source": [
    "* continue : 특정 조건에서 남은 명령을 건너 뛰고 다음 반복문을 수행한다."
   ],
   "cell_type": "markdown",
   "metadata": {}
  }
 ]
}