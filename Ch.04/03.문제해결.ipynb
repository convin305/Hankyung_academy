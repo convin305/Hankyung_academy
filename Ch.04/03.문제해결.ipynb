{
 "metadata": {
  "language_info": {
   "codemirror_mode": {
    "name": "ipython",
    "version": 3
   },
   "file_extension": ".py",
   "mimetype": "text/x-python",
   "name": "python",
   "nbconvert_exporter": "python",
   "pygments_lexer": "ipython3",
   "version": "3.8.5"
  },
  "orig_nbformat": 2,
  "kernelspec": {
   "name": "python385jvsc74a57bd08c1eae21719a0790335dcb83aad72b63b602cfe5cdb2bda0f60bc11d4f154e4b",
   "display_name": "Python 3.8.5 64-bit ('base': conda)"
  }
 },
 "nbformat": 4,
 "nbformat_minor": 2,
 "cells": [
  {
   "source": [
    "# 1. 구구단 계산기"
   ],
   "cell_type": "markdown",
   "metadata": {}
  },
  {
   "cell_type": "code",
   "execution_count": 3,
   "metadata": {},
   "outputs": [
    {
     "output_type": "stream",
     "name": "stdout",
     "text": [
      "6 * 1 = 6\n6 * 2 = 12\n6 * 3 = 18\n6 * 4 = 24\n6 * 5 = 30\n6 * 6 = 36\n6 * 7 = 42\n6 * 8 = 48\n6 * 9 = 54\n"
     ]
    }
   ],
   "source": [
    "# 구구단 6단 계산\n",
    "n = 6\n",
    "for i in range(1,10):\n",
    "    print(f'{n} * {i} = {n*i}')"
   ]
  },
  {
   "source": [
    "# 2. 문자열 역순 출력"
   ],
   "cell_type": "markdown",
   "metadata": {}
  },
  {
   "cell_type": "code",
   "execution_count": 5,
   "metadata": {},
   "outputs": [
    {
     "output_type": "stream",
     "name": "stdout",
     "text": [
      "Hello - olleH\n"
     ]
    }
   ],
   "source": [
    "sentence = input(\"문장을 입력하세요 : \")\n",
    "reverse_sen = \"\"\n",
    "\n",
    "for char in sentence : \n",
    "    reverse_sen = char + reverse_sen\n",
    "print(sentence,'-',reverse_sen)\n"
   ]
  },
  {
   "source": [
    "# 3. 십진수를 이진수로 변환"
   ],
   "cell_type": "markdown",
   "metadata": {}
  },
  {
   "cell_type": "code",
   "execution_count": 11,
   "metadata": {},
   "outputs": [
    {
     "output_type": "stream",
     "name": "stdout",
     "text": [
      "11001\n"
     ]
    }
   ],
   "source": [
    "num = int(input(\"정수를 입력하세요 : \")) # 십진수값\n",
    "ans = '' # 이진수 값을 넣을 Null string\n",
    "\n",
    "while num > 0 :\n",
    "    modulo = num % 2 # 나머지\n",
    "    quot = num // 2 # 몫\n",
    "    ans = str(modulo) + ans\n",
    "    num = quot\n",
    "print(ans)\n"
   ]
  },
  {
   "source": [
    "# 4. 숫자 찾기 게임  \n",
    "\n",
    "컴퓨터가 1에서 100까지의 숫자를 임의생성한다.  \n",
    "다음으로 사용자가 추측하는 숫자를 입려갛면, 생성한 임의의 숫자보다 큰지 작은지를 비교해준다.  \n",
    "정답을 맞힐 때까지 계속하다가 맞히면 '정답입니다. 입력한 숫자는 n입니다' 를 출력한다."
   ],
   "cell_type": "markdown",
   "metadata": {}
  },
  {
   "cell_type": "code",
   "execution_count": 14,
   "metadata": {},
   "outputs": [
    {
     "output_type": "stream",
     "name": "stdout",
     "text": [
      "숫자가 너무 큽니다\n",
      "숫자가 너무 작습니다\n",
      "숫자가 너무 작습니다\n",
      "숫자가 너무 큽니다\n",
      "빙고! 정답은 29이었습니다.\n"
     ]
    }
   ],
   "source": [
    "import random\n",
    "\n",
    "answer = random.randint(1,100)\n",
    "\n",
    "while True : \n",
    "    user_input = int(input(\"숫자를 추측해 보세요 : \"))\n",
    "    if user_input == answer:\n",
    "        print(f'빙고! 정답은 {answer}이었습니다.')\n",
    "        break\n",
    "    elif user_input >= answer:\n",
    "        print(\"숫자가 너무 큽니다\")\n",
    "    else :\n",
    "        print(\"숫자가 너무 작습니다\")\n"
   ]
  },
  {
   "source": [
    "# 5-1. 별표 그리기"
   ],
   "cell_type": "markdown",
   "metadata": {}
  },
  {
   "cell_type": "code",
   "execution_count": 18,
   "metadata": {},
   "outputs": [
    {
     "output_type": "stream",
     "name": "stdout",
     "text": [
      "+\n++\n+++\n++++\n+++++\n"
     ]
    }
   ],
   "source": [
    "for i in range(1,6):\n",
    "    for k in range(i):\n",
    "        print(\"+\",sep=\"\",end=\"\")\n",
    "    print()"
   ]
  },
  {
   "cell_type": "code",
   "execution_count": 21,
   "metadata": {},
   "outputs": [
    {
     "output_type": "stream",
     "name": "stdout",
     "text": [
      "+++++\n ++++\n  +++\n   ++\n    +\n"
     ]
    }
   ],
   "source": [
    "for i in range(1,6):\n",
    "    for k in range(1,i): # blank 출력\n",
    "        print(' ',sep=\"\",end=\"\")\n",
    "    for k in range(6-i): # 십자가 출력or i in range(1,6):\n",
    "            for k in range(1,i): # blank 출력\n",
    "                    print(' ',sep=\"\",end=\"\")\n",
    "                        for k in range(6-i): # 십자가 출력\n",
    "                                print(\"+\",sep=\"\",end=\"\")\n",
    "                                    print()\n",
    "        print(\"+\",sep=\"\",end=\"\")\n",
    "    print()"
   ]
  }
 ]
}