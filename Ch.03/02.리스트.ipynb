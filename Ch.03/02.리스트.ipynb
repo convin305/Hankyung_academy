{
 "metadata": {
  "language_info": {
   "codemirror_mode": {
    "name": "ipython",
    "version": 3
   },
   "file_extension": ".py",
   "mimetype": "text/x-python",
   "name": "python",
   "nbconvert_exporter": "python",
   "pygments_lexer": "ipython3",
   "version": "3.8.5"
  },
  "orig_nbformat": 2,
  "kernelspec": {
   "name": "python385jvsc74a57bd08c1eae21719a0790335dcb83aad72b63b602cfe5cdb2bda0f60bc11d4f154e4b",
   "display_name": "Python 3.8.5 64-bit ('CPB06GameN': virtualenv)"
  }
 },
 "nbformat": 4,
 "nbformat_minor": 2,
 "cells": [
  {
   "source": [
    "### 04.리스트의 이해\n",
    "* 시퀀스 자료형 : 여러 자료를 순서대로 넣는다는 뜻. 하나의 자료형으로만 저장하지 않고, 다양한 자료형을 포함할 수 있음  \n",
    "    * 리스트 : 하나의 변수에 여러 값을 할당하는 자료형이다. []\n",
    "    * 튜플 : ()\n",
    "    * 문자열\n",
    "    * 레인지 range(n,m)"
   ],
   "cell_type": "markdown",
   "metadata": {}
  },
  {
   "cell_type": "code",
   "execution_count": 29,
   "metadata": {},
   "outputs": [],
   "source": [
    "colors = ['red','green','blue',0xffffff] "
   ]
  },
  {
   "source": [
    "* 인덱싱 : 상대적인 주소"
   ],
   "cell_type": "markdown",
   "metadata": {}
  },
  {
   "cell_type": "code",
   "execution_count": 30,
   "metadata": {},
   "outputs": [
    {
     "output_type": "execute_result",
     "data": {
      "text/plain": [
       "True"
      ]
     },
     "metadata": {},
     "execution_count": 30
    }
   ],
   "source": [
    "colors[-2] == colors[2]"
   ]
  },
  {
   "source": [
    "* 슬라이싱 : 인덱스를 사용하여 전체 리스트에서 일부를 잘라내어 반환한다.  \n",
    "    - $[시작 값 : 끝 값 : 중간 값]$  \n",
    "    - 행과 열에 모두 적용이 가능함"
   ],
   "cell_type": "markdown",
   "metadata": {}
  },
  {
   "cell_type": "code",
   "execution_count": 31,
   "metadata": {},
   "outputs": [
    {
     "output_type": "execute_result",
     "data": {
      "text/plain": [
       "['서울', '부산', '대구']"
      ]
     },
     "metadata": {},
     "execution_count": 31
    }
   ],
   "source": [
    "cities = ['서울','부산','대구','대전','울산','광주','인천','세종']\n",
    "cities[0:3]"
   ]
  },
  {
   "cell_type": "code",
   "execution_count": 32,
   "metadata": {},
   "outputs": [
    {
     "output_type": "execute_result",
     "data": {
      "text/plain": [
       "(['광주', '인천', '세종'], ['광주', '인천'])"
      ]
     },
     "metadata": {},
     "execution_count": 32
    }
   ],
   "source": [
    "cities[5:], cities[5:-1] # 비교해서 알아두기"
   ]
  },
  {
   "cell_type": "code",
   "execution_count": 33,
   "metadata": {},
   "outputs": [
    {
     "output_type": "execute_result",
     "data": {
      "text/plain": [
       "['서울', '대구', '울산', '인천']"
      ]
     },
     "metadata": {},
     "execution_count": 33
    }
   ],
   "source": [
    "cities[::2] # 2개씩 띄어서 보기"
   ]
  },
  {
   "source": [
    "* 연산"
   ],
   "cell_type": "markdown",
   "metadata": {}
  },
  {
   "cell_type": "code",
   "execution_count": 34,
   "metadata": {},
   "outputs": [],
   "source": [
    "color1 = ['red','green','blue']\n",
    "color2 = ['orange','black','white']"
   ]
  },
  {
   "cell_type": "code",
   "execution_count": 35,
   "metadata": {},
   "outputs": [
    {
     "output_type": "execute_result",
     "data": {
      "text/plain": [
       "3"
      ]
     },
     "metadata": {},
     "execution_count": 35
    }
   ],
   "source": [
    "len(color1)"
   ]
  },
  {
   "cell_type": "code",
   "execution_count": 36,
   "metadata": {},
   "outputs": [
    {
     "output_type": "execute_result",
     "data": {
      "text/plain": [
       "['red', 'green', 'blue', 'orange', 'black', 'white']"
      ]
     },
     "metadata": {},
     "execution_count": 36
    }
   ],
   "source": [
    "# 리스트 끼리 더하기\n",
    "color1 + color2\n"
   ]
  },
  {
   "cell_type": "code",
   "execution_count": 37,
   "metadata": {},
   "outputs": [
    {
     "output_type": "execute_result",
     "data": {
      "text/plain": [
       "['red', 'green', 'blue', 'orange', 'black', 'white']"
      ]
     },
     "metadata": {},
     "execution_count": 37
    }
   ],
   "source": [
    "total_color = color1 + color2\n",
    "total_color"
   ]
  },
  {
   "cell_type": "code",
   "execution_count": 38,
   "metadata": {},
   "outputs": [
    {
     "output_type": "execute_result",
     "data": {
      "text/plain": [
       "['red', 'green', 'blue', 'red', 'green', 'blue']"
      ]
     },
     "metadata": {},
     "execution_count": 38
    }
   ],
   "source": [
    "# 반복\n",
    "color1 * 2"
   ]
  },
  {
   "cell_type": "code",
   "execution_count": 39,
   "metadata": {},
   "outputs": [
    {
     "output_type": "execute_result",
     "data": {
      "text/plain": [
       "True"
      ]
     },
     "metadata": {},
     "execution_count": 39
    }
   ],
   "source": [
    "# 포함되어 있는지 물어보기 \n",
    "\n",
    "'red' in color1"
   ]
  },
  {
   "source": [
    "* 리스트의 추가 및 삭제 (다양한 매소드)   \n",
    "    - append  \n",
    "    - extend  \n",
    "    - insert  \n",
    "    -  \n",
    "A.append()"
   ],
   "cell_type": "markdown",
   "metadata": {}
  },
  {
   "cell_type": "code",
   "execution_count": 40,
   "metadata": {},
   "outputs": [
    {
     "output_type": "execute_result",
     "data": {
      "text/plain": [
       "['red', 'green', 'blue']"
      ]
     },
     "metadata": {},
     "execution_count": 40
    }
   ],
   "source": [
    "color = ['red','green','blue']\n",
    "color"
   ]
  },
  {
   "cell_type": "code",
   "execution_count": 41,
   "metadata": {},
   "outputs": [
    {
     "output_type": "execute_result",
     "data": {
      "text/plain": [
       "['red', 'green', 'blue', 'white']"
      ]
     },
     "metadata": {},
     "execution_count": 41
    }
   ],
   "source": [
    "color.append('white')\n",
    "color"
   ]
  },
  {
   "source": [
    "results = list() # empty list\n",
    "for i in \"hello, world\":\n",
    "    results.append(i)"
   ],
   "cell_type": "code",
   "metadata": {},
   "execution_count": 42,
   "outputs": []
  },
  {
   "cell_type": "code",
   "execution_count": 43,
   "metadata": {},
   "outputs": [
    {
     "output_type": "stream",
     "name": "stdout",
     "text": [
      "['h', 'e', 'l', 'l', 'o', ',', ' ', 'w', 'o', 'r', 'l', 'd']\n"
     ]
    }
   ],
   "source": [
    "print(results)"
   ]
  },
  {
   "cell_type": "code",
   "execution_count": 44,
   "metadata": {},
   "outputs": [
    {
     "output_type": "execute_result",
     "data": {
      "text/plain": [
       "['h', 'e', 'l', 'l', 'o', ',', ' ', 'w', 'o', 'r', 'l', 'd']"
      ]
     },
     "metadata": {},
     "execution_count": 44
    }
   ],
   "source": [
    "# 한줄로 더 줄이기 - 리스트 컴프리헨션\n",
    "x = [s for s in 'hello, world']\n",
    "x"
   ]
  },
  {
   "cell_type": "code",
   "execution_count": 45,
   "metadata": {},
   "outputs": [
    {
     "output_type": "execute_result",
     "data": {
      "text/plain": [
       "5050"
      ]
     },
     "metadata": {},
     "execution_count": 45
    }
   ],
   "source": [
    "sum = 0\n",
    "for i in range(101):\n",
    "    sum += i\n",
    "sum"
   ]
  },
  {
   "source": [
    "A.extend()"
   ],
   "cell_type": "markdown",
   "metadata": {}
  },
  {
   "cell_type": "code",
   "execution_count": 46,
   "metadata": {},
   "outputs": [],
   "source": [
    "color.append(['black','white']) # 리스트의 엘리먼트로 리스트가 들어가게 되는 상황 발\n",
    "del color[-1]"
   ]
  },
  {
   "cell_type": "code",
   "execution_count": 47,
   "metadata": {},
   "outputs": [
    {
     "output_type": "execute_result",
     "data": {
      "text/plain": [
       "['red', 'green', 'blue', 'white', 'black', 'white']"
      ]
     },
     "metadata": {},
     "execution_count": 47
    }
   ],
   "source": [
    "color.extend(['black','white']) # 위와 같은 상황 방지위해 extend이용. 리스트를 펼쳐서 추가해준다.\n",
    "color"
   ]
  },
  {
   "source": [
    "A.insert()"
   ],
   "cell_type": "markdown",
   "metadata": {}
  },
  {
   "cell_type": "code",
   "execution_count": 48,
   "metadata": {},
   "outputs": [
    {
     "output_type": "execute_result",
     "data": {
      "text/plain": [
       "['orange', 'red', 'green', 'blue', 'white', 'black', 'white']"
      ]
     },
     "metadata": {},
     "execution_count": 48
    }
   ],
   "source": [
    "color.insert(0,'orange')\n",
    "color"
   ]
  },
  {
   "source": [
    "A.remove()"
   ],
   "cell_type": "markdown",
   "metadata": {}
  },
  {
   "cell_type": "code",
   "execution_count": 49,
   "metadata": {},
   "outputs": [
    {
     "output_type": "execute_result",
     "data": {
      "text/plain": [
       "['red', 'green', 'blue', 'white', 'black', 'white']"
      ]
     },
     "metadata": {},
     "execution_count": 49
    }
   ],
   "source": [
    "# 특정한 값으로 지우기\n",
    "color.remove('orange')\n",
    "color"
   ]
  },
  {
   "cell_type": "code",
   "execution_count": 50,
   "metadata": {},
   "outputs": [
    {
     "output_type": "execute_result",
     "data": {
      "text/plain": [
       "['red', 'green', 'blue', 'white', 'black']"
      ]
     },
     "metadata": {},
     "execution_count": 50
    }
   ],
   "source": [
    "# 인덱싱으로 지우기\n",
    "del color[-1]\n",
    "color"
   ]
  },
  {
   "source": [
    "리스트의 값 변경"
   ],
   "cell_type": "markdown",
   "metadata": {}
  },
  {
   "cell_type": "code",
   "execution_count": 51,
   "metadata": {},
   "outputs": [
    {
     "output_type": "execute_result",
     "data": {
      "text/plain": [
       "['red', 'green', 'purple', 'white', 'black']"
      ]
     },
     "metadata": {},
     "execution_count": 51
    }
   ],
   "source": [
    "color[2] = 'purple'\n",
    "color"
   ]
  },
  {
   "source": [
    "A.sort()"
   ],
   "cell_type": "markdown",
   "metadata": {}
  },
  {
   "cell_type": "code",
   "execution_count": 58,
   "metadata": {},
   "outputs": [
    {
     "output_type": "execute_result",
     "data": {
      "text/plain": [
       "['black', 'green', 'purple', 'red', 'white']"
      ]
     },
     "metadata": {},
     "execution_count": 58
    }
   ],
   "source": [
    "color.sort() # 오름차순\n",
    "color"
   ]
  },
  {
   "cell_type": "code",
   "execution_count": 60,
   "metadata": {},
   "outputs": [
    {
     "output_type": "execute_result",
     "data": {
      "text/plain": [
       "['white', 'red', 'purple', 'green', 'black']"
      ]
     },
     "metadata": {},
     "execution_count": 60
    }
   ],
   "source": [
    "color.sort(reverse = True) # 내림차순\n",
    "color"
   ]
  },
  {
   "source": [
    "* 패킹 언패킹  \n",
    ": 언패킹 시 할당받는 변수의 개수가 적거나 많으면 오류가 난다."
   ],
   "cell_type": "markdown",
   "metadata": {}
  },
  {
   "cell_type": "code",
   "execution_count": 62,
   "metadata": {},
   "outputs": [
    {
     "output_type": "execute_result",
     "data": {
      "text/plain": [
       "(1, 2, 3)"
      ]
     },
     "metadata": {},
     "execution_count": 62
    }
   ],
   "source": [
    "t = [1,2,3] # 리스트\n",
    "a,b,c = t # 리스트의 값을 각각 할당(언패킹)\n",
    "a,b,c # 튜플 패킹"
   ]
  },
  {
   "source": [
    "### 이차원리스트  \n",
    "$[행인덱스],[연인덱스]$"
   ],
   "cell_type": "markdown",
   "metadata": {}
  },
  {
   "cell_type": "code",
   "execution_count": 66,
   "metadata": {},
   "outputs": [],
   "source": [
    "kor = [49,79,20,100,80]\n",
    "mat = [43,59,85,30,90]\n",
    "eng = [49,79,48,60,100]\n",
    "\n",
    "score = [kor, mat,eng]"
   ]
  },
  {
   "cell_type": "code",
   "execution_count": 64,
   "metadata": {},
   "outputs": [
    {
     "output_type": "execute_result",
     "data": {
      "text/plain": [
       "[[49, 79, 20, 100, 80], [43, 59, 85, 30, 90], [49, 79, 48, 60, 100]]"
      ]
     },
     "metadata": {},
     "execution_count": 64
    }
   ],
   "source": [
    "score"
   ]
  },
  {
   "cell_type": "code",
   "execution_count": 65,
   "metadata": {},
   "outputs": [
    {
     "output_type": "execute_result",
     "data": {
      "text/plain": [
       "[49, 79, 20, 100, 80]"
      ]
     },
     "metadata": {},
     "execution_count": 65
    }
   ],
   "source": [
    "score[0]"
   ]
  },
  {
   "cell_type": "code",
   "execution_count": 68,
   "metadata": {},
   "outputs": [
    {
     "output_type": "execute_result",
     "data": {
      "text/plain": [
       "[[49, 79, 48, 60, 100]]"
      ]
     },
     "metadata": {},
     "execution_count": 68
    }
   ],
   "source": [
    "score[1:][1:]"
   ]
  }
 ]
}