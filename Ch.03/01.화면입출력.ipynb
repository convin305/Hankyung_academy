{
 "metadata": {
  "language_info": {
   "codemirror_mode": {
    "name": "ipython",
    "version": 3
   },
   "file_extension": ".py",
   "mimetype": "text/x-python",
   "name": "python",
   "nbconvert_exporter": "python",
   "pygments_lexer": "ipython3",
   "version": "3.8.5"
  },
  "orig_nbformat": 2,
  "kernelspec": {
   "name": "python385jvsc74a57bd08c1eae21719a0790335dcb83aad72b63b602cfe5cdb2bda0f60bc11d4f154e4b",
   "display_name": "Python 3.8.5 64-bit ('CPB06GameN': virtualenv)"
  }
 },
 "nbformat": 4,
 "nbformat_minor": 2,
 "cells": [
  {
   "source": [
    "# Chapter 3. 화면 입출력과 리스트   \n",
    "\n",
    "### 01. 파이썬 프로그래밍 환경\n",
    "### 02. 화면 입출력  \n",
    "\n",
    "* input : 사용자가 문자열을 콘솔 창에 입력할 수 있게 하는 표준 입력 함수"
   ],
   "cell_type": "markdown",
   "metadata": {}
  },
  {
   "cell_type": "code",
   "execution_count": 6,
   "metadata": {},
   "outputs": [
    {
     "output_type": "stream",
     "name": "stdout",
     "text": [
      "Enter your name : \n",
      "Hello, Sumin, How are you?\n"
     ]
    }
   ],
   "source": [
    "print(\"Enter your name : \")\n",
    "somebody = input()\n",
    "# print(\"Hello \",somebody,\", How are you?\" )\n",
    "print(f'Hello {somebody}, How are you?')"
   ]
  },
  {
   "cell_type": "code",
   "execution_count": 8,
   "metadata": {},
   "outputs": [
    {
     "output_type": "stream",
     "name": "stdout",
     "text": [
      "Hi, Sarah. Good Afternoon!\n"
     ]
    }
   ],
   "source": [
    "#파이썬스럽게 만들기\n",
    "somebody = input(\"Enter your name :\")\n",
    "print(f'Hi, {somebody}. Good Afternoon!')"
   ]
  },
  {
   "source": [
    "### 03. 화씨 온도로 변환하기  \n",
    "* 화씨온도 = (섭씨온도 * 1.8) + 32"
   ],
   "cell_type": "markdown",
   "metadata": {}
  },
  {
   "cell_type": "code",
   "execution_count": 9,
   "metadata": {},
   "outputs": [
    {
     "output_type": "stream",
     "name": "stdout",
     "text": [
      "섭씨 32도는 화씨 89.6입니다.\n"
     ]
    }
   ],
   "source": [
    "celsius = input(\"섭씨 온도를 입력하세요 : \") # 입력받고 바로 float로 변환해도 오케이 \n",
    "fahrenheit = (float(celsius)*1.8) + 32\n",
    "print(f'섭씨 {celsius}도는 화씨 {fahrenheit}입니다.')"
   ]
  }
 ]
}