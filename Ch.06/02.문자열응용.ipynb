{
 "metadata": {
  "language_info": {
   "codemirror_mode": {
    "name": "ipython",
    "version": 3
   },
   "file_extension": ".py",
   "mimetype": "text/x-python",
   "name": "python",
   "nbconvert_exporter": "python",
   "pygments_lexer": "ipython3",
   "version": "3.8.5"
  },
  "orig_nbformat": 2,
  "kernelspec": {
   "name": "python385jvsc74a57bd08c1eae21719a0790335dcb83aad72b63b602cfe5cdb2bda0f60bc11d4f154e4b",
   "display_name": "Python 3.8.5 64-bit ('base': conda)"
  }
 },
 "nbformat": 4,
 "nbformat_minor": 2,
 "cells": [
  {
   "source": [
    "### 2.단어 카운팅 \n",
    "\n",
    "가사에서 yesterday라는 단어가 얼마나 나왔을까?"
   ],
   "cell_type": "markdown",
   "metadata": {}
  },
  {
   "source": [
    "깃허브에 올라와 있는 것 읽어오기  \n",
    "\n",
    "1. url에서 content만 가져와서 json형식으로 만들기  \n",
    "2. base64를 이용해서 json에서 또 content만 가져와서 b64decode를 이용하여 영어로 변환  \n",
    "3. 이렇게 가져오게 되면 형식이 byte이므로 string으로 하기 위해서 한 번 더 decode를 해준다. "
   ],
   "cell_type": "markdown",
   "metadata": {}
  },
  {
   "cell_type": "code",
   "execution_count": 3,
   "metadata": {},
   "outputs": [],
   "source": [
    "import requests\n",
    "\n",
    "base_url = \"http://api.github.com/repos\"             # 유저 아이디 전까지\n",
    "user_url = \"TeamLab\"                                 # 유저 아이디\n",
    "repo_url = \"introduction_to_python_TEAMLAB_MOOC\"     # 저장소 이름\n",
    "path_name = \"code/6/yesterday.txt\"                   # 구체적 파일 경로\n",
    "\n",
    "url = f'{base_url}/{user_url}/{repo_url}/contents/{path_name}' #하나로 합치기\n",
    "\n",
    "req = requests.get(url)"
   ]
  },
  {
   "cell_type": "code",
   "execution_count": 6,
   "metadata": {},
   "outputs": [
    {
     "output_type": "execute_result",
     "data": {
      "text/plain": [
       "200"
      ]
     },
     "metadata": {},
     "execution_count": 6
    }
   ],
   "source": [
    "req.status_code #200이 나오면 성공"
   ]
  },
  {
   "cell_type": "code",
   "execution_count": 7,
   "metadata": {},
   "outputs": [
    {
     "output_type": "execute_result",
     "data": {
      "text/plain": [
       "b'{\"name\":\"yesterday.txt\",\"path\":\"code/6/yesterday.txt\",\"sha\":\"eb2fd6fc6e8fd51df6c5c15582f687c82462bd75\",\"size\":638,\"url\":\"https://api.github.com/repos/TeamLab/introduction_to_python_TEAMLAB_MOOC/contents/code/6/yesterday.txt?ref=master\",\"html_url\":\"https://github.com/TeamLab/introduction_to_python_TEAMLAB_MOOC/blob/master/code/6/yesterday.txt\",\"git_url\":\"https://api.github.com/repos/TeamLab/introduction_to_python_TEAMLAB_MOOC/git/blobs/eb2fd6fc6e8fd51df6c5c15582f687c82462bd75\",\"download_url\":\"https://raw.githubusercontent.com/TeamLab/introduction_to_python_TEAMLAB_MOOC/master/code/6/yesterday.txt\",\"type\":\"file\",\"content\":\"WWVzdGVyZGF5LCBhbGwgbXkgdHJvdWJsZXMgc2VlbWVkIHNvIGZhciBhd2F5\\\\nCk5vdyBpdCBsb29rcyBhcyB0aG91Z2ggdGhleSdyZSBoZXJlIHRvIHN0YXkK\\\\nb2gsIEkgYmVsaWV2ZSBpbiB5ZXN0ZXJkYXkKClN1ZGRlbmx5LCBJJ20gbm90\\\\nIGhhbGYgdGhlIG1hbiBJIHVzZWQgdG8gYmUKVGhlcmUncyBhIHNoYWRvdyBo\\\\nYW5naW5nIG92ZXIgbWUKT2gsIHllc3RlcmRheSBjYW1lIHN1ZGRlbmx5LgoK\\\\nV2h5IHNoZSBoYWQgdG8gZ28/CkkgZG9uJ3Qga25vdywgc2hlIHdvdWxkbid0\\\\nIHNheQpJIHNhaWQgc29tZXRoaW5nIHdyb25nCk5vdyBJIGxvbmcgZm9yIHll\\\\nc3RlcmRheS4KClllc3RlcmRheSBsb3ZlIHdhcyBzdWNoIGFuIGVhc3kgZ2Ft\\\\nZSB0byBwbGF5Ck5vdyBJIG5lZWQgYSBwbGFjZSB0byBoaWRlIGF3YXkKT2gs\\\\nIEkgYmVsaWV2ZSBpbiB5ZXN0ZXJkYXkuCgpXaHkgc2hlIGhhZCB0byBnbz8K\\\\nSSBkb24ndCBrbm93LCBzaGUgd291bGRuJ3Qgc2F5Ckkgc2FpZCBzb21ldGhp\\\\nbmcgd3JvbmcKTm93IEkgbG9uZyBmb3IgeWVzdGVyZGF5LgoKWWVzdGVyZGF5\\\\nIGxvdmUgd2FzIHN1Y2ggYW4gZWFzeSBnYW1lIHRvIHBsYXkKTm93IEkgbmVl\\\\nZCBhIHBsYWNlIHRvIGhpZGUgYXdheQpPaCwgSSBiZWxpZXZlIGluIHllc3Rl\\\\ncmRheS4uLgo=\\\\n\",\"encoding\":\"base64\",\"_links\":{\"self\":\"https://api.github.com/repos/TeamLab/introduction_to_python_TEAMLAB_MOOC/contents/code/6/yesterday.txt?ref=master\",\"git\":\"https://api.github.com/repos/TeamLab/introduction_to_python_TEAMLAB_MOOC/git/blobs/eb2fd6fc6e8fd51df6c5c15582f687c82462bd75\",\"html\":\"https://github.com/TeamLab/introduction_to_python_TEAMLAB_MOOC/blob/master/code/6/yesterday.txt\"}}'"
      ]
     },
     "metadata": {},
     "execution_count": 7
    }
   ],
   "source": [
    "req.content"
   ]
  },
  {
   "cell_type": "code",
   "execution_count": 10,
   "metadata": {},
   "outputs": [
    {
     "output_type": "execute_result",
     "data": {
      "text/plain": [
       "{'name': 'yesterday.txt',\n",
       " 'path': 'code/6/yesterday.txt',\n",
       " 'sha': 'eb2fd6fc6e8fd51df6c5c15582f687c82462bd75',\n",
       " 'size': 638,\n",
       " 'url': 'https://api.github.com/repos/TeamLab/introduction_to_python_TEAMLAB_MOOC/contents/code/6/yesterday.txt?ref=master',\n",
       " 'html_url': 'https://github.com/TeamLab/introduction_to_python_TEAMLAB_MOOC/blob/master/code/6/yesterday.txt',\n",
       " 'git_url': 'https://api.github.com/repos/TeamLab/introduction_to_python_TEAMLAB_MOOC/git/blobs/eb2fd6fc6e8fd51df6c5c15582f687c82462bd75',\n",
       " 'download_url': 'https://raw.githubusercontent.com/TeamLab/introduction_to_python_TEAMLAB_MOOC/master/code/6/yesterday.txt',\n",
       " 'type': 'file',\n",
       " 'content': 'WWVzdGVyZGF5LCBhbGwgbXkgdHJvdWJsZXMgc2VlbWVkIHNvIGZhciBhd2F5\\nCk5vdyBpdCBsb29rcyBhcyB0aG91Z2ggdGhleSdyZSBoZXJlIHRvIHN0YXkK\\nb2gsIEkgYmVsaWV2ZSBpbiB5ZXN0ZXJkYXkKClN1ZGRlbmx5LCBJJ20gbm90\\nIGhhbGYgdGhlIG1hbiBJIHVzZWQgdG8gYmUKVGhlcmUncyBhIHNoYWRvdyBo\\nYW5naW5nIG92ZXIgbWUKT2gsIHllc3RlcmRheSBjYW1lIHN1ZGRlbmx5LgoK\\nV2h5IHNoZSBoYWQgdG8gZ28/CkkgZG9uJ3Qga25vdywgc2hlIHdvdWxkbid0\\nIHNheQpJIHNhaWQgc29tZXRoaW5nIHdyb25nCk5vdyBJIGxvbmcgZm9yIHll\\nc3RlcmRheS4KClllc3RlcmRheSBsb3ZlIHdhcyBzdWNoIGFuIGVhc3kgZ2Ft\\nZSB0byBwbGF5Ck5vdyBJIG5lZWQgYSBwbGFjZSB0byBoaWRlIGF3YXkKT2gs\\nIEkgYmVsaWV2ZSBpbiB5ZXN0ZXJkYXkuCgpXaHkgc2hlIGhhZCB0byBnbz8K\\nSSBkb24ndCBrbm93LCBzaGUgd291bGRuJ3Qgc2F5Ckkgc2FpZCBzb21ldGhp\\nbmcgd3JvbmcKTm93IEkgbG9uZyBmb3IgeWVzdGVyZGF5LgoKWWVzdGVyZGF5\\nIGxvdmUgd2FzIHN1Y2ggYW4gZWFzeSBnYW1lIHRvIHBsYXkKTm93IEkgbmVl\\nZCBhIHBsYWNlIHRvIGhpZGUgYXdheQpPaCwgSSBiZWxpZXZlIGluIHllc3Rl\\ncmRheS4uLgo=\\n',\n",
       " 'encoding': 'base64',\n",
       " '_links': {'self': 'https://api.github.com/repos/TeamLab/introduction_to_python_TEAMLAB_MOOC/contents/code/6/yesterday.txt?ref=master',\n",
       "  'git': 'https://api.github.com/repos/TeamLab/introduction_to_python_TEAMLAB_MOOC/git/blobs/eb2fd6fc6e8fd51df6c5c15582f687c82462bd75',\n",
       "  'html': 'https://github.com/TeamLab/introduction_to_python_TEAMLAB_MOOC/blob/master/code/6/yesterday.txt'}}"
      ]
     },
     "metadata": {},
     "execution_count": 10
    }
   ],
   "source": [
    "parsed_req = req.json()\n",
    "\n",
    "parsed_req"
   ]
  },
  {
   "cell_type": "code",
   "execution_count": 12,
   "metadata": {},
   "outputs": [
    {
     "output_type": "stream",
     "name": "stdout",
     "text": [
      "b\"Yesterday, all my troubles seemed so far away\\nNow it looks as though they're here to stay\\noh, I believe in yesterday\\n\\nSuddenly, I'm not half the man I used to be\\nThere's a shadow hanging over me\\nOh, yesterday came suddenly.\\n\\nWhy she had to go?\\nI don't know, she wouldn't say\\nI said something wrong\\nNow I long for yesterday.\\n\\nYesterday love was such an easy game to play\\nNow I need a place to hide away\\nOh, I believe in yesterday.\\n\\nWhy she had to go?\\nI don't know, she wouldn't say\\nI said something wrong\\nNow I long for yesterday.\\n\\nYesterday love was such an easy game to play\\nNow I need a place to hide away\\nOh, I believe in yesterday...\\n\"\n"
     ]
    }
   ],
   "source": [
    "import base64\n",
    "\n",
    "byte_content = base64.b64decode(parsed_req['content'])  # parsed_req는 딕셔너리 형태로 되어있다.\n",
    "print(byte_content) #바이트 형태로 출력되어 스트링으로 변환을 해주어야 한다."
   ]
  },
  {
   "cell_type": "code",
   "execution_count": 13,
   "metadata": {},
   "outputs": [
    {
     "output_type": "execute_result",
     "data": {
      "text/plain": [
       "\"Yesterday, all my troubles seemed so far away\\nNow it looks as though they're here to stay\\noh, I believe in yesterday\\n\\nSuddenly, I'm not half the man I used to be\\nThere's a shadow hanging over me\\nOh, yesterday came suddenly.\\n\\nWhy she had to go?\\nI don't know, she wouldn't say\\nI said something wrong\\nNow I long for yesterday.\\n\\nYesterday love was such an easy game to play\\nNow I need a place to hide away\\nOh, I believe in yesterday.\\n\\nWhy she had to go?\\nI don't know, she wouldn't say\\nI said something wrong\\nNow I long for yesterday.\\n\\nYesterday love was such an easy game to play\\nNow I need a place to hide away\\nOh, I believe in yesterday...\\n\""
      ]
     },
     "metadata": {},
     "execution_count": 13
    }
   ],
   "source": [
    "lyrics = byte_content.decode()  # 디코드를 한 번 더 해줘야 비로소 스트링이 된다.\n",
    "lyrics"
   ]
  },
  {
   "source": [
    "모두 소문자 처리해서 통일하고 해당 단어가 몇 번 나왔는지 count를 이용해서 센다."
   ],
   "cell_type": "markdown",
   "metadata": {}
  },
  {
   "cell_type": "code",
   "execution_count": 15,
   "metadata": {},
   "outputs": [
    {
     "output_type": "stream",
     "name": "stdout",
     "text": [
      "9\n"
     ]
    }
   ],
   "source": [
    "n_of_yesterday = lyrics.lower().count(\"yesterday\")\n",
    "\n",
    "print(n_of_yesterday)"
   ]
  },
  {
   "source": [
    "### 문자열 <-> ASCII code 변환\n",
    "\n",
    "- ord()  \n",
    "- chr()"
   ],
   "cell_type": "markdown",
   "metadata": {}
  },
  {
   "source": [
    "ord : A는 Ox41이고, 이걸 십진수로 바꾸면 65가 된다."
   ],
   "cell_type": "markdown",
   "metadata": {}
  },
  {
   "cell_type": "code",
   "execution_count": 16,
   "metadata": {},
   "outputs": [
    {
     "output_type": "execute_result",
     "data": {
      "text/plain": [
       "65"
      ]
     },
     "metadata": {},
     "execution_count": 16
    }
   ],
   "source": [
    "ord(\"A\")"
   ]
  },
  {
   "source": [
    "chr(ord('A') + 1)"
   ],
   "cell_type": "code",
   "metadata": {},
   "execution_count": 17,
   "outputs": [
    {
     "output_type": "execute_result",
     "data": {
      "text/plain": [
       "'B'"
      ]
     },
     "metadata": {},
     "execution_count": 17
    }
   ]
  },
  {
   "cell_type": "code",
   "execution_count": 18,
   "metadata": {},
   "outputs": [
    {
     "output_type": "execute_result",
     "data": {
      "text/plain": [
       "'HFY'"
      ]
     },
     "metadata": {},
     "execution_count": 18
    }
   ],
   "source": [
    "word = chr(ord(\"C\")+5) + chr(ord(\"A\")+5) + chr(ord(\"T\")+5)\n",
    "\n",
    "word"
   ]
  },
  {
   "cell_type": "code",
   "execution_count": 20,
   "metadata": {},
   "outputs": [
    {
     "output_type": "execute_result",
     "data": {
      "text/plain": [
       "'HFY'"
      ]
     },
     "metadata": {},
     "execution_count": 20
    }
   ],
   "source": [
    "word = \"\"\n",
    "for c in \"CAT\":\n",
    "    word += chr(ord(c)+5)\n",
    "\n",
    "word"
   ]
  },
  {
   "cell_type": "code",
   "execution_count": 21,
   "metadata": {},
   "outputs": [
    {
     "output_type": "execute_result",
     "data": {
      "text/plain": [
       "'HFY'"
      ]
     },
     "metadata": {},
     "execution_count": 21
    }
   ],
   "source": [
    "word = \"\".join(chr(ord(c) + 5) for c in \"CAT\")  # 리스트 컴프리헨션을 이용한 한줄 코드\n",
    "\n",
    "word"
   ]
  },
  {
   "cell_type": "code",
   "execution_count": 22,
   "metadata": {},
   "outputs": [
    {
     "output_type": "execute_result",
     "data": {
      "text/plain": [
       "']^_'"
      ]
     },
     "metadata": {},
     "execution_count": 22
    }
   ],
   "source": [
    "word = chr(ord(\"X\")+5) + chr(ord(\"Y\")+5) + chr(ord(\"Z\")+5)\n",
    "\n",
    "word"
   ]
  },
  {
   "source": [
    "### % 서식\n",
    "\n",
    "%s : string  \n",
    "%d : int  \n",
    "%f : float  \n",
    "%o : 8진수  등등.."
   ],
   "cell_type": "markdown",
   "metadata": {}
  },
  {
   "source": [
    "### 문자열 포맷"
   ],
   "cell_type": "markdown",
   "metadata": {}
  },
  {
   "cell_type": "code",
   "execution_count": 25,
   "metadata": {},
   "outputs": [
    {
     "output_type": "execute_result",
     "data": {
      "text/plain": [
       "'3.141592653589793,  3.142'"
      ]
     },
     "metadata": {},
     "execution_count": 25
    }
   ],
   "source": [
    "import math\n",
    "\n",
    "a = f'{math.pi}, {math.pi : .3f}'\n",
    "a"
   ]
  },
  {
   "cell_type": "code",
   "execution_count": 26,
   "metadata": {},
   "outputs": [
    {
     "output_type": "execute_result",
     "data": {
      "text/plain": [
       "'10,000'"
      ]
     },
     "metadata": {},
     "execution_count": 26
    }
   ],
   "source": [
    "b = f'{10000:,}'\n",
    "b"
   ]
  }
 ]
}